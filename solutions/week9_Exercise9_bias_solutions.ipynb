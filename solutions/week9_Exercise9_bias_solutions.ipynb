{
 "cells": [
  {
   "cell_type": "markdown",
   "metadata": {
    "colab_type": "text",
    "id": "l5NckjMd1sKU"
   },
   "source": [
    "# Exercise set 9: Bias detection and correction\n",
    "In this set you will practice: bias detection, correction, and mitigation.\n",
    "Again you will use the [Toxicity classification dataset](https://www.kaggle.com/c/jigsaw-unintended-bias-in-toxicity-classification/data) from the other exercises.\n",
    "Furthermore you should download the dataset provided by Kiritchenko & Mohammed 2018 [(data)](https://saifmohammad.com/WebDocs/EEC/Equity-Evaluation-Corpus.zip) for testing biases in text classification systems \n",
    "\n",
    "\n",
    "The classifier we will test is based on the Universal Sentence Encoder that we used in [exercise set 8](https://github.com/ulfaslak/sds_tddl_2020/blob/master/exercises/week8_exercises_transferlearning.ipynb).\n",
    "\n",
    "\n",
    "## 9.0 Create function that takes in a train and test data and trains the transfer learning model from last weeks exercises. \n",
    "  - **Hint** initialize the hublayer outside the function, and use the `tf.keras.models.clone_model()` function to avoid downloading the layer everytime you reinitialize.\n",
    "\n",
    "## 9.1 Estimate Differential Bias \n",
    "Here we shall look at both individual classification bias and proportional classification bias.\n",
    "1. Train classifier on Toxicity dataset.\n",
    "2. Estimate Differential Biases for each of the minority populations. i.e. white black asian jewish etc columns. \n",
    "  - You need to set a threshold of how many percent of the annotators who aggreed on the Minority group (e.g. >0.5)\n",
    "  - Using the testset you should construct a confusion matrix for each minority.  \n",
    "  - Report the Accuracy, Precision, Recall and F1 score.\n",
    "    - Comment on the Results.\n",
    "3. Test the *\"Classify&Count\"* method for estimating proportion for the general popolation and then for the subpopulations of each minority group.\n",
    "  - See which groups have most error. \n",
    "  - Report Proportional classification accuracy using the pearsons product moment correlation (np.coercoef), and the root mean square deviation (RMSD). \n",
    "\n"
   ]
  },
  {
   "cell_type": "code",
   "execution_count": 1,
   "metadata": {
    "colab": {
     "base_uri": "https://localhost:8080/",
     "height": 54
    },
    "colab_type": "code",
    "id": "lzVH2_St2_-w",
    "outputId": "ee258c91-0532-4dd8-bc4b-accaf497bc5c"
   },
   "outputs": [
    {
     "name": "stdout",
     "output_type": "stream",
     "text": [
      "(1804874, 46)\n",
      "(13261, 46) (1804874, 46)\n"
     ]
    }
   ],
   "source": [
    "import matplotlib.pyplot as plt\n",
    "%matplotlib inline\n",
    "# load dataset\n",
    "import pandas as pd\n",
    "path2tox_data = '/content/drive/My Drive/lm/toxic_train.csv'\n",
    "tox_df = pd.read_csv(path2tox_data)\n",
    "\n",
    "tox_df['label'] = (tox_df.target>0.5).astype(int)\n",
    "print(tox_df.shape)\n",
    "# subsample data to allow faster prototyping\n",
    "# df = df.sample(5000) # simple solution\n",
    "# stratified solution where we subsample from each meta data column to get a higher variance.\n",
    "strat_sample_cols = list(tox_df.columns[3:23])+['physical_disability',\n",
    "       'psychiatric_or_mental_illness', 'transgender', 'white']\n",
    "samples = []\n",
    "n = 600\n",
    "for col in strat_sample_cols:\n",
    "    binary = pd.DataFrame((tox_df[col]>0.5).astype(int))\n",
    "    samples+=[j for _,j in binary.groupby(col).apply(lambda x: x.sample(min(len(x),n//2))).index]\n",
    "idx = list(set(samples))\n",
    "\n",
    "df = tox_df.iloc[idx].copy()\n",
    "# Create evaluation set\n",
    "val_size = 100000\n",
    "extra_df = tox_df[~tox_df.reset_index()['index'].isin(set(idx))]\n",
    "val_df = extra_df.sample(val_size)\n",
    "from sklearn.model_selection import train_test_split\n",
    "train_df,test_df = train_test_split(df,test_size=0.33)\n",
    "sample = df.groupby('label').apply(lambda x: x.sample(500))\n",
    "sample_texts = sample.comment_text.values\n",
    "print(df.shape,tox_df.shape)\n"
   ]
  },
  {
   "cell_type": "code",
   "execution_count": null,
   "metadata": {
    "colab": {},
    "colab_type": "code",
    "id": "ZdMarCnhBZI6"
   },
   "outputs": [],
   "source": [
    "# Solution 9.0\n",
    "## Initialize hublayer outside of train_function.\n",
    "import tensorflow_hub as hub\n",
    "import tensorflow as tf\n",
    "# Make basemodel to avoid downloading everytime.\n",
    "# Add USE layer to model  \n",
    "mod_url = 'https://tfhub.dev/google/universal-sentence-encoder/4'\n",
    "basetfmodel = tf.keras.models.Sequential()\n",
    "basetfmodel.add(hub.KerasLayer(mod_url, \n",
    "                          input_shape=[], \n",
    "                          dtype=tf.string,\n",
    "                          trainable=False\n",
    "                          ))\n",
    "\n",
    "import numpy as np\n",
    "def train_tranfer_USE(x_train,x_test,y_train,y_test,epochs=3):\n",
    "  model = tf.keras.models.clone_model(basetfmodel)\n",
    "  # Define extra layers for the pipeline.\n",
    "  model.add(tf.keras.layers.Dense(256, activation='relu')) # add standard feed forward layer\n",
    "  model.add(tf.keras.layers.Dense(1, activation='sigmoid')) # define output layer.\n",
    "  # Compile model.\n",
    "  model.compile(optimizer='adam', \n",
    "                loss='binary_crossentropy', \n",
    "                metrics=['accuracy'])\n",
    "              \n",
    "\n",
    "  val_dat = (np.array([i for i in x_test.values]), y_test.values)\n",
    "  \n",
    "  # Run session and fit model.\n",
    "  #with tf.compat.v1.Session() as sess:\n",
    "  #with tf.Session() as sess:\n",
    "\n",
    "    #sess.run([tf.global_variables_initializer(), tf.tables_initializer()])\n",
    "  #  sess.run([tf.compat.v1.global_variables_initializer(),tf.compat.v1.tables_initializer()])\n",
    "  model.fit(x_train.values, \n",
    "              y_train.values, \n",
    "              epochs=epochs\n",
    "              #,validation_split=0.2\n",
    "              ,validation_data=val_dat\n",
    "              )\n",
    "  return model"
   ]
  },
  {
   "cell_type": "code",
   "execution_count": 3,
   "metadata": {
    "colab": {
     "base_uri": "https://localhost:8080/",
     "height": 128
    },
    "colab_type": "code",
    "id": "hnvNSkxgB8PH",
    "outputId": "59229e05-f43b-4982-d0f1-90189480802f"
   },
   "outputs": [
    {
     "name": "stdout",
     "output_type": "stream",
     "text": [
      "Epoch 1/3\n",
      "278/278 [==============================] - 7s 25ms/step - loss: 0.3885 - accuracy: 0.8441 - val_loss: 0.3302 - val_accuracy: 0.8638\n",
      "Epoch 2/3\n",
      "278/278 [==============================] - 6s 23ms/step - loss: 0.3221 - accuracy: 0.8655 - val_loss: 0.3174 - val_accuracy: 0.8695\n",
      "Epoch 3/3\n",
      "278/278 [==============================] - 6s 23ms/step - loss: 0.3047 - accuracy: 0.8760 - val_loss: 0.3165 - val_accuracy: 0.8748\n"
     ]
    }
   ],
   "source": [
    "tfmodel = train_tranfer_USE(train_df.comment_text,test_df.comment_text,train_df.label,test_df.label)"
   ]
  },
  {
   "cell_type": "markdown",
   "metadata": {
    "colab_type": "text",
    "id": "cXVw7LA2YVqA"
   },
   "source": [
    "## Train BoW baseline using the get_bow_baseline script"
   ]
  },
  {
   "cell_type": "code",
   "execution_count": null,
   "metadata": {
    "colab": {},
    "colab_type": "code",
    "id": "7I9tK-10Xplt"
   },
   "outputs": [],
   "source": [
    "## Download script for searching the hyperparameters with bayesian optimization using the hyperopt package.\n",
    "import requests\n",
    "with open('get_bow_baseline.py','w') as f:\n",
    "    f.write(requests.get('https://raw.githubusercontent.com/snorreralund/test_tokenization/master/get_bow_baseline.py').text)\n",
    "f.close()"
   ]
  },
  {
   "cell_type": "code",
   "execution_count": 5,
   "metadata": {
    "colab": {
     "base_uri": "https://localhost:8080/",
     "height": 54
    },
    "colab_type": "code",
    "id": "mBIUbh7iXXqQ",
    "outputId": "73e19f4c-a389-437c-9758-634a8e3ac6da"
   },
   "outputs": [
    {
     "name": "stdout",
     "output_type": "stream",
     "text": [
      "100%|██████████| 150/150 [04:41<00:00,  1.88s/it, best loss: 0.1538894447223612]\n",
      "Final accuracy and roc_auc score of tokenizer (nltk_tweet) + nb_log: 0.883 and 0.841\n"
     ]
    }
   ],
   "source": [
    "import get_bow_baseline as baseline\n",
    "baseline = baseline.TokenizationTest(train_df,test_df,MAX_EVALS=150,scoring_function='accuracy_score',y_col='label',text_col='comment_text')\n",
    "import warnings; warnings.simplefilter('ignore')\n",
    "import nltk\n",
    "tokenizer = nltk.tokenize.TweetTokenizer().tokenize\n",
    "baseline.evaluate('nltk_tweet',tokenizer)"
   ]
  },
  {
   "cell_type": "code",
   "execution_count": 6,
   "metadata": {
    "colab": {
     "base_uri": "https://localhost:8080/",
     "height": 54
    },
    "colab_type": "code",
    "id": "SwI5cCvTXsWu",
    "outputId": "2f0a5f9b-f67b-4e3f-91e9-fca236af53b6"
   },
   "outputs": [
    {
     "name": "stdout",
     "output_type": "stream",
     "text": [
      "CPU times: user 2.45 s, sys: 11.7 ms, total: 2.47 s\n",
      "Wall time: 2.47 s\n"
     ]
    }
   ],
   "source": [
    "%time y_pred = baseline.predict(val_df.comment_text.values)\n",
    "val_df['bow_prob'] = y_pred[:,1]\n",
    "val_df['bow_pred'] = (val_df.bow_prob > 0.5).astype(int)"
   ]
  },
  {
   "cell_type": "code",
   "execution_count": 7,
   "metadata": {
    "colab": {
     "base_uri": "https://localhost:8080/",
     "height": 54
    },
    "colab_type": "code",
    "id": "kuvqD-DmewfU",
    "outputId": "666fd3f3-6c83-451d-bd6c-e8630ce533cc"
   },
   "outputs": [
    {
     "name": "stdout",
     "output_type": "stream",
     "text": [
      "CPU times: user 48.5 s, sys: 3.61 s, total: 52.1 s\n",
      "Wall time: 36.6 s\n"
     ]
    }
   ],
   "source": [
    "## Differential Classification Error\n",
    "minority_columns = ['asian', 'atheist', 'bisexual',\n",
    "       'black', 'buddhist', 'christian', 'female', 'heterosexual', 'hindu',\n",
    "       'homosexual_gay_or_lesbian', 'intellectual_or_learning_disability',\n",
    "       'jewish', 'latino', 'male', 'muslim', 'physical_disability',\n",
    "       'psychiatric_or_mental_illness', 'transgender', 'white']\n",
    "## Apply model to the texts.\n",
    "%time val_df['tf_prob'] = tfmodel.predict(val_df.comment_text)\n",
    "val_df['tf_prediction'] = (val_df.tf_prob>0.5).astype(int)"
   ]
  },
  {
   "cell_type": "code",
   "execution_count": null,
   "metadata": {
    "colab": {},
    "colab_type": "code",
    "id": "jkGPHGCFiPfh"
   },
   "outputs": [],
   "source": [
    "val_df['label'] = pd.Categorical(val_df.label.astype(int))\n",
    "val_df['tf_prediction'] = pd.Categorical(val_df.tf_prediction)"
   ]
  },
  {
   "cell_type": "code",
   "execution_count": null,
   "metadata": {
    "colab": {},
    "colab_type": "code",
    "id": "_Zdd_6oCfGrd"
   },
   "outputs": [],
   "source": [
    "## Estimate diffential bias. \n",
    "def get_confusion_matrix(tempdf,pred_col = 'tf_prediction',true_col = 'label'):\n",
    "  mat = tempdf.groupby([pred_col,true_col]).size().unstack()\n",
    "\n",
    "  tn = mat.values[0][0]\n",
    "  fn = mat.values[0][1]\n",
    "  tp = mat.values[1][1]\n",
    "  fp = mat.values[1][0]\n",
    "  return tn,fn,tp,fp,mat.unstack()\n",
    "import sklearn.metrics\n",
    "dat = []\n",
    "for col in minority_columns:\n",
    "  tempdf = val_df[val_df[col]>0.5]\n",
    "  if len(tempdf)<50:\n",
    "    continue\n",
    "  tn,fn,tp,fp,mat = get_confusion_matrix(tempdf)\n",
    "  # Calculate performance scores\n",
    "  precision = tp/(tp+fp)\n",
    "  recall = tp/(tp+fn)\n",
    "  acc = (tp+tn)/(tp+tn+fp+fn)\n",
    "  f1 = 2*(precision*recall)/(precision+recall)\n",
    "  roc_auc = sklearn.metrics.roc_auc_score(tempdf.label,tempdf.tf_prob)\n",
    "  ## Count true proportions\n",
    "  pos = sum(tempdf.label==1.)\n",
    "  neg = len(tempdf)-pos\n",
    "  d = {'minority':col,'precision':precision,'recall':recall,'accuracy':acc,'roc_auc':roc_auc,'f1':f1,'tp':tp,\n",
    "       'fp':fp,'tn':tn,'fn':fn,'n':len(tempdf),'pos':pos,'neg':neg}\n",
    "  dat.append(d)\n",
    "diff_bias = pd.DataFrame(dat).dropna().reset_index(drop=True)"
   ]
  },
  {
   "cell_type": "code",
   "execution_count": null,
   "metadata": {
    "colab": {
     "base_uri": "https://localhost:8080/",
     "height": 551
    },
    "colab_type": "code",
    "id": "tK3H7h2EnOPc",
    "outputId": "f95000ef-6166-476b-bbe9-6bcf73706674"
   },
   "outputs": [
    {
     "data": {
      "text/html": [
       "<div>\n",
       "<style scoped>\n",
       "    .dataframe tbody tr th:only-of-type {\n",
       "        vertical-align: middle;\n",
       "    }\n",
       "\n",
       "    .dataframe tbody tr th {\n",
       "        vertical-align: top;\n",
       "    }\n",
       "\n",
       "    .dataframe thead th {\n",
       "        text-align: right;\n",
       "    }\n",
       "</style>\n",
       "<table border=\"1\" class=\"dataframe\">\n",
       "  <thead>\n",
       "    <tr style=\"text-align: right;\">\n",
       "      <th></th>\n",
       "      <th>minority</th>\n",
       "      <th>precision</th>\n",
       "      <th>recall</th>\n",
       "      <th>accuracy</th>\n",
       "      <th>roc_auc</th>\n",
       "      <th>f1</th>\n",
       "      <th>tp</th>\n",
       "      <th>fp</th>\n",
       "      <th>tn</th>\n",
       "      <th>fn</th>\n",
       "      <th>n</th>\n",
       "      <th>pos</th>\n",
       "      <th>neg</th>\n",
       "    </tr>\n",
       "  </thead>\n",
       "  <tbody>\n",
       "    <tr>\n",
       "      <th>3</th>\n",
       "      <td>buddhist</td>\n",
       "      <td>0.250000</td>\n",
       "      <td>0.071429</td>\n",
       "      <td>0.912568</td>\n",
       "      <td>0.526839</td>\n",
       "      <td>0.111111</td>\n",
       "      <td>1</td>\n",
       "      <td>3</td>\n",
       "      <td>166</td>\n",
       "      <td>13</td>\n",
       "      <td>183</td>\n",
       "      <td>14</td>\n",
       "      <td>169</td>\n",
       "    </tr>\n",
       "    <tr>\n",
       "      <th>14</th>\n",
       "      <td>transgender</td>\n",
       "      <td>0.457746</td>\n",
       "      <td>0.282609</td>\n",
       "      <td>0.870657</td>\n",
       "      <td>0.617843</td>\n",
       "      <td>0.349462</td>\n",
       "      <td>65</td>\n",
       "      <td>77</td>\n",
       "      <td>1564</td>\n",
       "      <td>165</td>\n",
       "      <td>1871</td>\n",
       "      <td>230</td>\n",
       "      <td>1641</td>\n",
       "    </tr>\n",
       "    <tr>\n",
       "      <th>9</th>\n",
       "      <td>jewish</td>\n",
       "      <td>0.451098</td>\n",
       "      <td>0.324247</td>\n",
       "      <td>0.889514</td>\n",
       "      <td>0.639415</td>\n",
       "      <td>0.377295</td>\n",
       "      <td>226</td>\n",
       "      <td>275</td>\n",
       "      <td>5780</td>\n",
       "      <td>471</td>\n",
       "      <td>6752</td>\n",
       "      <td>697</td>\n",
       "      <td>6055</td>\n",
       "    </tr>\n",
       "    <tr>\n",
       "      <th>0</th>\n",
       "      <td>asian</td>\n",
       "      <td>0.435233</td>\n",
       "      <td>0.324324</td>\n",
       "      <td>0.912129</td>\n",
       "      <td>0.643831</td>\n",
       "      <td>0.371681</td>\n",
       "      <td>84</td>\n",
       "      <td>109</td>\n",
       "      <td>2864</td>\n",
       "      <td>175</td>\n",
       "      <td>3232</td>\n",
       "      <td>259</td>\n",
       "      <td>2973</td>\n",
       "    </tr>\n",
       "    <tr>\n",
       "      <th>4</th>\n",
       "      <td>christian</td>\n",
       "      <td>0.357181</td>\n",
       "      <td>0.336495</td>\n",
       "      <td>0.926396</td>\n",
       "      <td>0.649605</td>\n",
       "      <td>0.346530</td>\n",
       "      <td>674</td>\n",
       "      <td>1213</td>\n",
       "      <td>31320</td>\n",
       "      <td>1329</td>\n",
       "      <td>34536</td>\n",
       "      <td>2003</td>\n",
       "      <td>32533</td>\n",
       "    </tr>\n",
       "    <tr>\n",
       "      <th>6</th>\n",
       "      <td>heterosexual</td>\n",
       "      <td>0.564516</td>\n",
       "      <td>0.336538</td>\n",
       "      <td>0.870445</td>\n",
       "      <td>0.647076</td>\n",
       "      <td>0.421687</td>\n",
       "      <td>35</td>\n",
       "      <td>27</td>\n",
       "      <td>610</td>\n",
       "      <td>69</td>\n",
       "      <td>741</td>\n",
       "      <td>104</td>\n",
       "      <td>637</td>\n",
       "    </tr>\n",
       "    <tr>\n",
       "      <th>8</th>\n",
       "      <td>homosexual_gay_or_lesbian</td>\n",
       "      <td>0.523052</td>\n",
       "      <td>0.355676</td>\n",
       "      <td>0.811942</td>\n",
       "      <td>0.638770</td>\n",
       "      <td>0.423423</td>\n",
       "      <td>658</td>\n",
       "      <td>600</td>\n",
       "      <td>7079</td>\n",
       "      <td>1192</td>\n",
       "      <td>9529</td>\n",
       "      <td>1850</td>\n",
       "      <td>7679</td>\n",
       "    </tr>\n",
       "    <tr>\n",
       "      <th>5</th>\n",
       "      <td>female</td>\n",
       "      <td>0.413432</td>\n",
       "      <td>0.356686</td>\n",
       "      <td>0.894759</td>\n",
       "      <td>0.652840</td>\n",
       "      <td>0.382969</td>\n",
       "      <td>1619</td>\n",
       "      <td>2297</td>\n",
       "      <td>42736</td>\n",
       "      <td>2920</td>\n",
       "      <td>49572</td>\n",
       "      <td>4539</td>\n",
       "      <td>45033</td>\n",
       "    </tr>\n",
       "    <tr>\n",
       "      <th>1</th>\n",
       "      <td>atheist</td>\n",
       "      <td>0.434211</td>\n",
       "      <td>0.358696</td>\n",
       "      <td>0.896761</td>\n",
       "      <td>0.655352</td>\n",
       "      <td>0.392857</td>\n",
       "      <td>33</td>\n",
       "      <td>43</td>\n",
       "      <td>853</td>\n",
       "      <td>59</td>\n",
       "      <td>988</td>\n",
       "      <td>92</td>\n",
       "      <td>896</td>\n",
       "    </tr>\n",
       "    <tr>\n",
       "      <th>10</th>\n",
       "      <td>latino</td>\n",
       "      <td>0.453846</td>\n",
       "      <td>0.401361</td>\n",
       "      <td>0.860035</td>\n",
       "      <td>0.664785</td>\n",
       "      <td>0.425993</td>\n",
       "      <td>59</td>\n",
       "      <td>71</td>\n",
       "      <td>918</td>\n",
       "      <td>88</td>\n",
       "      <td>1136</td>\n",
       "      <td>147</td>\n",
       "      <td>989</td>\n",
       "    </tr>\n",
       "    <tr>\n",
       "      <th>13</th>\n",
       "      <td>psychiatric_or_mental_illness</td>\n",
       "      <td>0.528340</td>\n",
       "      <td>0.442373</td>\n",
       "      <td>0.851007</td>\n",
       "      <td>0.684574</td>\n",
       "      <td>0.481550</td>\n",
       "      <td>261</td>\n",
       "      <td>233</td>\n",
       "      <td>2949</td>\n",
       "      <td>329</td>\n",
       "      <td>3772</td>\n",
       "      <td>590</td>\n",
       "      <td>3182</td>\n",
       "    </tr>\n",
       "    <tr>\n",
       "      <th>12</th>\n",
       "      <td>muslim</td>\n",
       "      <td>0.410345</td>\n",
       "      <td>0.464844</td>\n",
       "      <td>0.820608</td>\n",
       "      <td>0.673897</td>\n",
       "      <td>0.435897</td>\n",
       "      <td>1309</td>\n",
       "      <td>1881</td>\n",
       "      <td>14189</td>\n",
       "      <td>1507</td>\n",
       "      <td>18886</td>\n",
       "      <td>2816</td>\n",
       "      <td>16070</td>\n",
       "    </tr>\n",
       "    <tr>\n",
       "      <th>11</th>\n",
       "      <td>male</td>\n",
       "      <td>0.354773</td>\n",
       "      <td>0.471040</td>\n",
       "      <td>0.856803</td>\n",
       "      <td>0.686152</td>\n",
       "      <td>0.404721</td>\n",
       "      <td>1903</td>\n",
       "      <td>3461</td>\n",
       "      <td>31592</td>\n",
       "      <td>2137</td>\n",
       "      <td>39093</td>\n",
       "      <td>4040</td>\n",
       "      <td>35053</td>\n",
       "    </tr>\n",
       "    <tr>\n",
       "      <th>7</th>\n",
       "      <td>hindu</td>\n",
       "      <td>0.800000</td>\n",
       "      <td>0.533333</td>\n",
       "      <td>0.947674</td>\n",
       "      <td>0.760297</td>\n",
       "      <td>0.640000</td>\n",
       "      <td>8</td>\n",
       "      <td>2</td>\n",
       "      <td>155</td>\n",
       "      <td>7</td>\n",
       "      <td>172</td>\n",
       "      <td>15</td>\n",
       "      <td>157</td>\n",
       "    </tr>\n",
       "    <tr>\n",
       "      <th>2</th>\n",
       "      <td>black</td>\n",
       "      <td>0.481246</td>\n",
       "      <td>0.546360</td>\n",
       "      <td>0.771093</td>\n",
       "      <td>0.690338</td>\n",
       "      <td>0.511740</td>\n",
       "      <td>1591</td>\n",
       "      <td>1715</td>\n",
       "      <td>8636</td>\n",
       "      <td>1321</td>\n",
       "      <td>13263</td>\n",
       "      <td>2912</td>\n",
       "      <td>10351</td>\n",
       "    </tr>\n",
       "    <tr>\n",
       "      <th>15</th>\n",
       "      <td>white</td>\n",
       "      <td>0.414293</td>\n",
       "      <td>0.569351</td>\n",
       "      <td>0.760826</td>\n",
       "      <td>0.688069</td>\n",
       "      <td>0.479600</td>\n",
       "      <td>2545</td>\n",
       "      <td>3598</td>\n",
       "      <td>15024</td>\n",
       "      <td>1925</td>\n",
       "      <td>23092</td>\n",
       "      <td>4470</td>\n",
       "      <td>18622</td>\n",
       "    </tr>\n",
       "  </tbody>\n",
       "</table>\n",
       "</div>"
      ],
      "text/plain": [
       "                         minority  precision    recall  ...      n   pos    neg\n",
       "3                        buddhist   0.250000  0.071429  ...    183    14    169\n",
       "14                    transgender   0.457746  0.282609  ...   1871   230   1641\n",
       "9                          jewish   0.451098  0.324247  ...   6752   697   6055\n",
       "0                           asian   0.435233  0.324324  ...   3232   259   2973\n",
       "4                       christian   0.357181  0.336495  ...  34536  2003  32533\n",
       "6                    heterosexual   0.564516  0.336538  ...    741   104    637\n",
       "8       homosexual_gay_or_lesbian   0.523052  0.355676  ...   9529  1850   7679\n",
       "5                          female   0.413432  0.356686  ...  49572  4539  45033\n",
       "1                         atheist   0.434211  0.358696  ...    988    92    896\n",
       "10                         latino   0.453846  0.401361  ...   1136   147    989\n",
       "13  psychiatric_or_mental_illness   0.528340  0.442373  ...   3772   590   3182\n",
       "12                         muslim   0.410345  0.464844  ...  18886  2816  16070\n",
       "11                           male   0.354773  0.471040  ...  39093  4040  35053\n",
       "7                           hindu   0.800000  0.533333  ...    172    15    157\n",
       "2                           black   0.481246  0.546360  ...  13263  2912  10351\n",
       "15                          white   0.414293  0.569351  ...  23092  4470  18622\n",
       "\n",
       "[16 rows x 13 columns]"
      ]
     },
     "execution_count": 53,
     "metadata": {
      "tags": []
     },
     "output_type": "execute_result"
    }
   ],
   "source": [
    "diff_bias.sort_values('recall')"
   ]
  },
  {
   "cell_type": "markdown",
   "metadata": {
    "colab_type": "text",
    "id": "nD13FtTfnaS2"
   },
   "source": [
    "Recall shows that insults against blacks, males, and whites are captured best. Whereas Asian Transgender, and Jewish insults are harder to detect."
   ]
  },
  {
   "cell_type": "code",
   "execution_count": null,
   "metadata": {
    "colab": {
     "base_uri": "https://localhost:8080/",
     "height": 551
    },
    "colab_type": "code",
    "id": "mRWG1xDYm71j",
    "outputId": "4f8d9ef0-ae7a-4eaa-b884-83ab55c20931"
   },
   "outputs": [
    {
     "data": {
      "text/html": [
       "<div>\n",
       "<style scoped>\n",
       "    .dataframe tbody tr th:only-of-type {\n",
       "        vertical-align: middle;\n",
       "    }\n",
       "\n",
       "    .dataframe tbody tr th {\n",
       "        vertical-align: top;\n",
       "    }\n",
       "\n",
       "    .dataframe thead th {\n",
       "        text-align: right;\n",
       "    }\n",
       "</style>\n",
       "<table border=\"1\" class=\"dataframe\">\n",
       "  <thead>\n",
       "    <tr style=\"text-align: right;\">\n",
       "      <th></th>\n",
       "      <th>minority</th>\n",
       "      <th>precision</th>\n",
       "      <th>recall</th>\n",
       "      <th>accuracy</th>\n",
       "      <th>roc_auc</th>\n",
       "      <th>f1</th>\n",
       "      <th>tp</th>\n",
       "      <th>fp</th>\n",
       "      <th>tn</th>\n",
       "      <th>fn</th>\n",
       "      <th>n</th>\n",
       "      <th>pos</th>\n",
       "      <th>neg</th>\n",
       "    </tr>\n",
       "  </thead>\n",
       "  <tbody>\n",
       "    <tr>\n",
       "      <th>3</th>\n",
       "      <td>buddhist</td>\n",
       "      <td>0.250000</td>\n",
       "      <td>0.071429</td>\n",
       "      <td>0.912568</td>\n",
       "      <td>0.526839</td>\n",
       "      <td>0.111111</td>\n",
       "      <td>1</td>\n",
       "      <td>3</td>\n",
       "      <td>166</td>\n",
       "      <td>13</td>\n",
       "      <td>183</td>\n",
       "      <td>14</td>\n",
       "      <td>169</td>\n",
       "    </tr>\n",
       "    <tr>\n",
       "      <th>11</th>\n",
       "      <td>male</td>\n",
       "      <td>0.354773</td>\n",
       "      <td>0.471040</td>\n",
       "      <td>0.856803</td>\n",
       "      <td>0.686152</td>\n",
       "      <td>0.404721</td>\n",
       "      <td>1903</td>\n",
       "      <td>3461</td>\n",
       "      <td>31592</td>\n",
       "      <td>2137</td>\n",
       "      <td>39093</td>\n",
       "      <td>4040</td>\n",
       "      <td>35053</td>\n",
       "    </tr>\n",
       "    <tr>\n",
       "      <th>4</th>\n",
       "      <td>christian</td>\n",
       "      <td>0.357181</td>\n",
       "      <td>0.336495</td>\n",
       "      <td>0.926396</td>\n",
       "      <td>0.649605</td>\n",
       "      <td>0.346530</td>\n",
       "      <td>674</td>\n",
       "      <td>1213</td>\n",
       "      <td>31320</td>\n",
       "      <td>1329</td>\n",
       "      <td>34536</td>\n",
       "      <td>2003</td>\n",
       "      <td>32533</td>\n",
       "    </tr>\n",
       "    <tr>\n",
       "      <th>12</th>\n",
       "      <td>muslim</td>\n",
       "      <td>0.410345</td>\n",
       "      <td>0.464844</td>\n",
       "      <td>0.820608</td>\n",
       "      <td>0.673897</td>\n",
       "      <td>0.435897</td>\n",
       "      <td>1309</td>\n",
       "      <td>1881</td>\n",
       "      <td>14189</td>\n",
       "      <td>1507</td>\n",
       "      <td>18886</td>\n",
       "      <td>2816</td>\n",
       "      <td>16070</td>\n",
       "    </tr>\n",
       "    <tr>\n",
       "      <th>5</th>\n",
       "      <td>female</td>\n",
       "      <td>0.413432</td>\n",
       "      <td>0.356686</td>\n",
       "      <td>0.894759</td>\n",
       "      <td>0.652840</td>\n",
       "      <td>0.382969</td>\n",
       "      <td>1619</td>\n",
       "      <td>2297</td>\n",
       "      <td>42736</td>\n",
       "      <td>2920</td>\n",
       "      <td>49572</td>\n",
       "      <td>4539</td>\n",
       "      <td>45033</td>\n",
       "    </tr>\n",
       "    <tr>\n",
       "      <th>15</th>\n",
       "      <td>white</td>\n",
       "      <td>0.414293</td>\n",
       "      <td>0.569351</td>\n",
       "      <td>0.760826</td>\n",
       "      <td>0.688069</td>\n",
       "      <td>0.479600</td>\n",
       "      <td>2545</td>\n",
       "      <td>3598</td>\n",
       "      <td>15024</td>\n",
       "      <td>1925</td>\n",
       "      <td>23092</td>\n",
       "      <td>4470</td>\n",
       "      <td>18622</td>\n",
       "    </tr>\n",
       "    <tr>\n",
       "      <th>1</th>\n",
       "      <td>atheist</td>\n",
       "      <td>0.434211</td>\n",
       "      <td>0.358696</td>\n",
       "      <td>0.896761</td>\n",
       "      <td>0.655352</td>\n",
       "      <td>0.392857</td>\n",
       "      <td>33</td>\n",
       "      <td>43</td>\n",
       "      <td>853</td>\n",
       "      <td>59</td>\n",
       "      <td>988</td>\n",
       "      <td>92</td>\n",
       "      <td>896</td>\n",
       "    </tr>\n",
       "    <tr>\n",
       "      <th>0</th>\n",
       "      <td>asian</td>\n",
       "      <td>0.435233</td>\n",
       "      <td>0.324324</td>\n",
       "      <td>0.912129</td>\n",
       "      <td>0.643831</td>\n",
       "      <td>0.371681</td>\n",
       "      <td>84</td>\n",
       "      <td>109</td>\n",
       "      <td>2864</td>\n",
       "      <td>175</td>\n",
       "      <td>3232</td>\n",
       "      <td>259</td>\n",
       "      <td>2973</td>\n",
       "    </tr>\n",
       "    <tr>\n",
       "      <th>9</th>\n",
       "      <td>jewish</td>\n",
       "      <td>0.451098</td>\n",
       "      <td>0.324247</td>\n",
       "      <td>0.889514</td>\n",
       "      <td>0.639415</td>\n",
       "      <td>0.377295</td>\n",
       "      <td>226</td>\n",
       "      <td>275</td>\n",
       "      <td>5780</td>\n",
       "      <td>471</td>\n",
       "      <td>6752</td>\n",
       "      <td>697</td>\n",
       "      <td>6055</td>\n",
       "    </tr>\n",
       "    <tr>\n",
       "      <th>10</th>\n",
       "      <td>latino</td>\n",
       "      <td>0.453846</td>\n",
       "      <td>0.401361</td>\n",
       "      <td>0.860035</td>\n",
       "      <td>0.664785</td>\n",
       "      <td>0.425993</td>\n",
       "      <td>59</td>\n",
       "      <td>71</td>\n",
       "      <td>918</td>\n",
       "      <td>88</td>\n",
       "      <td>1136</td>\n",
       "      <td>147</td>\n",
       "      <td>989</td>\n",
       "    </tr>\n",
       "    <tr>\n",
       "      <th>14</th>\n",
       "      <td>transgender</td>\n",
       "      <td>0.457746</td>\n",
       "      <td>0.282609</td>\n",
       "      <td>0.870657</td>\n",
       "      <td>0.617843</td>\n",
       "      <td>0.349462</td>\n",
       "      <td>65</td>\n",
       "      <td>77</td>\n",
       "      <td>1564</td>\n",
       "      <td>165</td>\n",
       "      <td>1871</td>\n",
       "      <td>230</td>\n",
       "      <td>1641</td>\n",
       "    </tr>\n",
       "    <tr>\n",
       "      <th>2</th>\n",
       "      <td>black</td>\n",
       "      <td>0.481246</td>\n",
       "      <td>0.546360</td>\n",
       "      <td>0.771093</td>\n",
       "      <td>0.690338</td>\n",
       "      <td>0.511740</td>\n",
       "      <td>1591</td>\n",
       "      <td>1715</td>\n",
       "      <td>8636</td>\n",
       "      <td>1321</td>\n",
       "      <td>13263</td>\n",
       "      <td>2912</td>\n",
       "      <td>10351</td>\n",
       "    </tr>\n",
       "    <tr>\n",
       "      <th>8</th>\n",
       "      <td>homosexual_gay_or_lesbian</td>\n",
       "      <td>0.523052</td>\n",
       "      <td>0.355676</td>\n",
       "      <td>0.811942</td>\n",
       "      <td>0.638770</td>\n",
       "      <td>0.423423</td>\n",
       "      <td>658</td>\n",
       "      <td>600</td>\n",
       "      <td>7079</td>\n",
       "      <td>1192</td>\n",
       "      <td>9529</td>\n",
       "      <td>1850</td>\n",
       "      <td>7679</td>\n",
       "    </tr>\n",
       "    <tr>\n",
       "      <th>13</th>\n",
       "      <td>psychiatric_or_mental_illness</td>\n",
       "      <td>0.528340</td>\n",
       "      <td>0.442373</td>\n",
       "      <td>0.851007</td>\n",
       "      <td>0.684574</td>\n",
       "      <td>0.481550</td>\n",
       "      <td>261</td>\n",
       "      <td>233</td>\n",
       "      <td>2949</td>\n",
       "      <td>329</td>\n",
       "      <td>3772</td>\n",
       "      <td>590</td>\n",
       "      <td>3182</td>\n",
       "    </tr>\n",
       "    <tr>\n",
       "      <th>6</th>\n",
       "      <td>heterosexual</td>\n",
       "      <td>0.564516</td>\n",
       "      <td>0.336538</td>\n",
       "      <td>0.870445</td>\n",
       "      <td>0.647076</td>\n",
       "      <td>0.421687</td>\n",
       "      <td>35</td>\n",
       "      <td>27</td>\n",
       "      <td>610</td>\n",
       "      <td>69</td>\n",
       "      <td>741</td>\n",
       "      <td>104</td>\n",
       "      <td>637</td>\n",
       "    </tr>\n",
       "    <tr>\n",
       "      <th>7</th>\n",
       "      <td>hindu</td>\n",
       "      <td>0.800000</td>\n",
       "      <td>0.533333</td>\n",
       "      <td>0.947674</td>\n",
       "      <td>0.760297</td>\n",
       "      <td>0.640000</td>\n",
       "      <td>8</td>\n",
       "      <td>2</td>\n",
       "      <td>155</td>\n",
       "      <td>7</td>\n",
       "      <td>172</td>\n",
       "      <td>15</td>\n",
       "      <td>157</td>\n",
       "    </tr>\n",
       "  </tbody>\n",
       "</table>\n",
       "</div>"
      ],
      "text/plain": [
       "                         minority  precision    recall  ...      n   pos    neg\n",
       "3                        buddhist   0.250000  0.071429  ...    183    14    169\n",
       "11                           male   0.354773  0.471040  ...  39093  4040  35053\n",
       "4                       christian   0.357181  0.336495  ...  34536  2003  32533\n",
       "12                         muslim   0.410345  0.464844  ...  18886  2816  16070\n",
       "5                          female   0.413432  0.356686  ...  49572  4539  45033\n",
       "15                          white   0.414293  0.569351  ...  23092  4470  18622\n",
       "1                         atheist   0.434211  0.358696  ...    988    92    896\n",
       "0                           asian   0.435233  0.324324  ...   3232   259   2973\n",
       "9                          jewish   0.451098  0.324247  ...   6752   697   6055\n",
       "10                         latino   0.453846  0.401361  ...   1136   147    989\n",
       "14                    transgender   0.457746  0.282609  ...   1871   230   1641\n",
       "2                           black   0.481246  0.546360  ...  13263  2912  10351\n",
       "8       homosexual_gay_or_lesbian   0.523052  0.355676  ...   9529  1850   7679\n",
       "13  psychiatric_or_mental_illness   0.528340  0.442373  ...   3772   590   3182\n",
       "6                    heterosexual   0.564516  0.336538  ...    741   104    637\n",
       "7                           hindu   0.800000  0.533333  ...    172    15    157\n",
       "\n",
       "[16 rows x 13 columns]"
      ]
     },
     "execution_count": 54,
     "metadata": {
      "tags": []
     },
     "output_type": "execute_result"
    }
   ],
   "source": [
    "diff_bias.sort_values('precision')"
   ]
  },
  {
   "cell_type": "markdown",
   "metadata": {
    "colab_type": "text",
    "id": "xRrIGTEOoXTH"
   },
   "source": [
    "Taking the differential Recall together with the differential Precision suggests that while the classifier fails to detect many jewish and asian, inssults the ones that it do capture is quite general and easy to recognize."
   ]
  },
  {
   "cell_type": "code",
   "execution_count": null,
   "metadata": {
    "colab": {
     "base_uri": "https://localhost:8080/",
     "height": 551
    },
    "colab_type": "code",
    "id": "llOus5RJl-VL",
    "outputId": "a9a351ba-7468-4ab3-e93d-282ed4a6f984"
   },
   "outputs": [
    {
     "data": {
      "text/html": [
       "<div>\n",
       "<style scoped>\n",
       "    .dataframe tbody tr th:only-of-type {\n",
       "        vertical-align: middle;\n",
       "    }\n",
       "\n",
       "    .dataframe tbody tr th {\n",
       "        vertical-align: top;\n",
       "    }\n",
       "\n",
       "    .dataframe thead th {\n",
       "        text-align: right;\n",
       "    }\n",
       "</style>\n",
       "<table border=\"1\" class=\"dataframe\">\n",
       "  <thead>\n",
       "    <tr style=\"text-align: right;\">\n",
       "      <th></th>\n",
       "      <th>minority</th>\n",
       "      <th>precision</th>\n",
       "      <th>recall</th>\n",
       "      <th>accuracy</th>\n",
       "      <th>roc_auc</th>\n",
       "      <th>f1</th>\n",
       "      <th>tp</th>\n",
       "      <th>fp</th>\n",
       "      <th>tn</th>\n",
       "      <th>fn</th>\n",
       "      <th>n</th>\n",
       "      <th>pos</th>\n",
       "      <th>neg</th>\n",
       "    </tr>\n",
       "  </thead>\n",
       "  <tbody>\n",
       "    <tr>\n",
       "      <th>3</th>\n",
       "      <td>buddhist</td>\n",
       "      <td>0.250000</td>\n",
       "      <td>0.071429</td>\n",
       "      <td>0.912568</td>\n",
       "      <td>0.526839</td>\n",
       "      <td>0.111111</td>\n",
       "      <td>1</td>\n",
       "      <td>3</td>\n",
       "      <td>166</td>\n",
       "      <td>13</td>\n",
       "      <td>183</td>\n",
       "      <td>14</td>\n",
       "      <td>169</td>\n",
       "    </tr>\n",
       "    <tr>\n",
       "      <th>14</th>\n",
       "      <td>transgender</td>\n",
       "      <td>0.457746</td>\n",
       "      <td>0.282609</td>\n",
       "      <td>0.870657</td>\n",
       "      <td>0.617843</td>\n",
       "      <td>0.349462</td>\n",
       "      <td>65</td>\n",
       "      <td>77</td>\n",
       "      <td>1564</td>\n",
       "      <td>165</td>\n",
       "      <td>1871</td>\n",
       "      <td>230</td>\n",
       "      <td>1641</td>\n",
       "    </tr>\n",
       "    <tr>\n",
       "      <th>8</th>\n",
       "      <td>homosexual_gay_or_lesbian</td>\n",
       "      <td>0.523052</td>\n",
       "      <td>0.355676</td>\n",
       "      <td>0.811942</td>\n",
       "      <td>0.638770</td>\n",
       "      <td>0.423423</td>\n",
       "      <td>658</td>\n",
       "      <td>600</td>\n",
       "      <td>7079</td>\n",
       "      <td>1192</td>\n",
       "      <td>9529</td>\n",
       "      <td>1850</td>\n",
       "      <td>7679</td>\n",
       "    </tr>\n",
       "    <tr>\n",
       "      <th>9</th>\n",
       "      <td>jewish</td>\n",
       "      <td>0.451098</td>\n",
       "      <td>0.324247</td>\n",
       "      <td>0.889514</td>\n",
       "      <td>0.639415</td>\n",
       "      <td>0.377295</td>\n",
       "      <td>226</td>\n",
       "      <td>275</td>\n",
       "      <td>5780</td>\n",
       "      <td>471</td>\n",
       "      <td>6752</td>\n",
       "      <td>697</td>\n",
       "      <td>6055</td>\n",
       "    </tr>\n",
       "    <tr>\n",
       "      <th>0</th>\n",
       "      <td>asian</td>\n",
       "      <td>0.435233</td>\n",
       "      <td>0.324324</td>\n",
       "      <td>0.912129</td>\n",
       "      <td>0.643831</td>\n",
       "      <td>0.371681</td>\n",
       "      <td>84</td>\n",
       "      <td>109</td>\n",
       "      <td>2864</td>\n",
       "      <td>175</td>\n",
       "      <td>3232</td>\n",
       "      <td>259</td>\n",
       "      <td>2973</td>\n",
       "    </tr>\n",
       "    <tr>\n",
       "      <th>6</th>\n",
       "      <td>heterosexual</td>\n",
       "      <td>0.564516</td>\n",
       "      <td>0.336538</td>\n",
       "      <td>0.870445</td>\n",
       "      <td>0.647076</td>\n",
       "      <td>0.421687</td>\n",
       "      <td>35</td>\n",
       "      <td>27</td>\n",
       "      <td>610</td>\n",
       "      <td>69</td>\n",
       "      <td>741</td>\n",
       "      <td>104</td>\n",
       "      <td>637</td>\n",
       "    </tr>\n",
       "    <tr>\n",
       "      <th>4</th>\n",
       "      <td>christian</td>\n",
       "      <td>0.357181</td>\n",
       "      <td>0.336495</td>\n",
       "      <td>0.926396</td>\n",
       "      <td>0.649605</td>\n",
       "      <td>0.346530</td>\n",
       "      <td>674</td>\n",
       "      <td>1213</td>\n",
       "      <td>31320</td>\n",
       "      <td>1329</td>\n",
       "      <td>34536</td>\n",
       "      <td>2003</td>\n",
       "      <td>32533</td>\n",
       "    </tr>\n",
       "    <tr>\n",
       "      <th>5</th>\n",
       "      <td>female</td>\n",
       "      <td>0.413432</td>\n",
       "      <td>0.356686</td>\n",
       "      <td>0.894759</td>\n",
       "      <td>0.652840</td>\n",
       "      <td>0.382969</td>\n",
       "      <td>1619</td>\n",
       "      <td>2297</td>\n",
       "      <td>42736</td>\n",
       "      <td>2920</td>\n",
       "      <td>49572</td>\n",
       "      <td>4539</td>\n",
       "      <td>45033</td>\n",
       "    </tr>\n",
       "    <tr>\n",
       "      <th>1</th>\n",
       "      <td>atheist</td>\n",
       "      <td>0.434211</td>\n",
       "      <td>0.358696</td>\n",
       "      <td>0.896761</td>\n",
       "      <td>0.655352</td>\n",
       "      <td>0.392857</td>\n",
       "      <td>33</td>\n",
       "      <td>43</td>\n",
       "      <td>853</td>\n",
       "      <td>59</td>\n",
       "      <td>988</td>\n",
       "      <td>92</td>\n",
       "      <td>896</td>\n",
       "    </tr>\n",
       "    <tr>\n",
       "      <th>10</th>\n",
       "      <td>latino</td>\n",
       "      <td>0.453846</td>\n",
       "      <td>0.401361</td>\n",
       "      <td>0.860035</td>\n",
       "      <td>0.664785</td>\n",
       "      <td>0.425993</td>\n",
       "      <td>59</td>\n",
       "      <td>71</td>\n",
       "      <td>918</td>\n",
       "      <td>88</td>\n",
       "      <td>1136</td>\n",
       "      <td>147</td>\n",
       "      <td>989</td>\n",
       "    </tr>\n",
       "    <tr>\n",
       "      <th>12</th>\n",
       "      <td>muslim</td>\n",
       "      <td>0.410345</td>\n",
       "      <td>0.464844</td>\n",
       "      <td>0.820608</td>\n",
       "      <td>0.673897</td>\n",
       "      <td>0.435897</td>\n",
       "      <td>1309</td>\n",
       "      <td>1881</td>\n",
       "      <td>14189</td>\n",
       "      <td>1507</td>\n",
       "      <td>18886</td>\n",
       "      <td>2816</td>\n",
       "      <td>16070</td>\n",
       "    </tr>\n",
       "    <tr>\n",
       "      <th>13</th>\n",
       "      <td>psychiatric_or_mental_illness</td>\n",
       "      <td>0.528340</td>\n",
       "      <td>0.442373</td>\n",
       "      <td>0.851007</td>\n",
       "      <td>0.684574</td>\n",
       "      <td>0.481550</td>\n",
       "      <td>261</td>\n",
       "      <td>233</td>\n",
       "      <td>2949</td>\n",
       "      <td>329</td>\n",
       "      <td>3772</td>\n",
       "      <td>590</td>\n",
       "      <td>3182</td>\n",
       "    </tr>\n",
       "    <tr>\n",
       "      <th>11</th>\n",
       "      <td>male</td>\n",
       "      <td>0.354773</td>\n",
       "      <td>0.471040</td>\n",
       "      <td>0.856803</td>\n",
       "      <td>0.686152</td>\n",
       "      <td>0.404721</td>\n",
       "      <td>1903</td>\n",
       "      <td>3461</td>\n",
       "      <td>31592</td>\n",
       "      <td>2137</td>\n",
       "      <td>39093</td>\n",
       "      <td>4040</td>\n",
       "      <td>35053</td>\n",
       "    </tr>\n",
       "    <tr>\n",
       "      <th>15</th>\n",
       "      <td>white</td>\n",
       "      <td>0.414293</td>\n",
       "      <td>0.569351</td>\n",
       "      <td>0.760826</td>\n",
       "      <td>0.688069</td>\n",
       "      <td>0.479600</td>\n",
       "      <td>2545</td>\n",
       "      <td>3598</td>\n",
       "      <td>15024</td>\n",
       "      <td>1925</td>\n",
       "      <td>23092</td>\n",
       "      <td>4470</td>\n",
       "      <td>18622</td>\n",
       "    </tr>\n",
       "    <tr>\n",
       "      <th>2</th>\n",
       "      <td>black</td>\n",
       "      <td>0.481246</td>\n",
       "      <td>0.546360</td>\n",
       "      <td>0.771093</td>\n",
       "      <td>0.690338</td>\n",
       "      <td>0.511740</td>\n",
       "      <td>1591</td>\n",
       "      <td>1715</td>\n",
       "      <td>8636</td>\n",
       "      <td>1321</td>\n",
       "      <td>13263</td>\n",
       "      <td>2912</td>\n",
       "      <td>10351</td>\n",
       "    </tr>\n",
       "    <tr>\n",
       "      <th>7</th>\n",
       "      <td>hindu</td>\n",
       "      <td>0.800000</td>\n",
       "      <td>0.533333</td>\n",
       "      <td>0.947674</td>\n",
       "      <td>0.760297</td>\n",
       "      <td>0.640000</td>\n",
       "      <td>8</td>\n",
       "      <td>2</td>\n",
       "      <td>155</td>\n",
       "      <td>7</td>\n",
       "      <td>172</td>\n",
       "      <td>15</td>\n",
       "      <td>157</td>\n",
       "    </tr>\n",
       "  </tbody>\n",
       "</table>\n",
       "</div>"
      ],
      "text/plain": [
       "                         minority  precision    recall  ...      n   pos    neg\n",
       "3                        buddhist   0.250000  0.071429  ...    183    14    169\n",
       "14                    transgender   0.457746  0.282609  ...   1871   230   1641\n",
       "8       homosexual_gay_or_lesbian   0.523052  0.355676  ...   9529  1850   7679\n",
       "9                          jewish   0.451098  0.324247  ...   6752   697   6055\n",
       "0                           asian   0.435233  0.324324  ...   3232   259   2973\n",
       "6                    heterosexual   0.564516  0.336538  ...    741   104    637\n",
       "4                       christian   0.357181  0.336495  ...  34536  2003  32533\n",
       "5                          female   0.413432  0.356686  ...  49572  4539  45033\n",
       "1                         atheist   0.434211  0.358696  ...    988    92    896\n",
       "10                         latino   0.453846  0.401361  ...   1136   147    989\n",
       "12                         muslim   0.410345  0.464844  ...  18886  2816  16070\n",
       "13  psychiatric_or_mental_illness   0.528340  0.442373  ...   3772   590   3182\n",
       "11                           male   0.354773  0.471040  ...  39093  4040  35053\n",
       "15                          white   0.414293  0.569351  ...  23092  4470  18622\n",
       "2                           black   0.481246  0.546360  ...  13263  2912  10351\n",
       "7                           hindu   0.800000  0.533333  ...    172    15    157\n",
       "\n",
       "[16 rows x 13 columns]"
      ]
     },
     "execution_count": 55,
     "metadata": {
      "tags": []
     },
     "output_type": "execute_result"
    }
   ],
   "source": [
    "diff_bias.sort_values('roc_auc') # Report the RoC_Auc score as the overall best performance accross minorities."
   ]
  },
  {
   "cell_type": "code",
   "execution_count": null,
   "metadata": {
    "colab": {
     "base_uri": "https://localhost:8080/",
     "height": 559
    },
    "colab_type": "code",
    "id": "-h9BBeIUlRRW",
    "outputId": "cbf3d74d-e7ce-401a-d2ea-d2203a8b647e"
   },
   "outputs": [
    {
     "data": {
      "text/plain": [
       "Text(0.5, 0, 'Roc Auc Score')"
      ]
     },
     "execution_count": 99,
     "metadata": {
      "tags": []
     },
     "output_type": "execute_result"
    },
    {
     "data": {
      "image/png": "[encoded data removed]",
      "text/plain": [
       "<Figure size 432x288 with 1 Axes>"
      ]
     },
     "metadata": {
      "needs_background": "light",
      "tags": []
     },
     "output_type": "display_data"
    },
    {
     "data": {
      "image/png": "[encoded data removed]",
      "text/plain": [
       "<Figure size 432x288 with 1 Axes>"
      ]
     },
     "metadata": {
      "needs_background": "light",
      "tags": []
     },
     "output_type": "display_data"
    }
   ],
   "source": [
    "# Relationship between the number of samples and the classifier performance. Use Roc_auc as it is independent of \"Predicted\" Class balances.\n",
    "plt.scatter(diff_bias.n,diff_bias.roc_auc)\n",
    "plt.xlabel('No. of samples')\n",
    "plt.xlabel('Roc Auc Score')\n",
    "plt.figure()\n",
    "plt.scatter(diff_bias.pos,diff_bias.roc_auc)\n",
    "plt.xlabel('No. of positive samples')\n",
    "plt.xlabel('Roc Auc Score')"
   ]
  },
  {
   "cell_type": "code",
   "execution_count": null,
   "metadata": {
    "colab": {
     "base_uri": "https://localhost:8080/",
     "height": 394
    },
    "colab_type": "code",
    "id": "Tcus-ZPhaB2y",
    "outputId": "5c910ddd-003c-4e85-ee2e-9433674a379f"
   },
   "outputs": [
    {
     "data": {
      "text/html": [
       "<div>\n",
       "<style scoped>\n",
       "    .dataframe tbody tr th:only-of-type {\n",
       "        vertical-align: middle;\n",
       "    }\n",
       "\n",
       "    .dataframe tbody tr th {\n",
       "        vertical-align: top;\n",
       "    }\n",
       "\n",
       "    .dataframe thead th {\n",
       "        text-align: right;\n",
       "    }\n",
       "</style>\n",
       "<table border=\"1\" class=\"dataframe\">\n",
       "  <thead>\n",
       "    <tr style=\"text-align: right;\">\n",
       "      <th></th>\n",
       "      <th>minority</th>\n",
       "      <th>pos</th>\n",
       "      <th>pos_freq</th>\n",
       "      <th>clf_pos_freq</th>\n",
       "      <th>proportional_error_freq</th>\n",
       "      <th>proportional_error_abs</th>\n",
       "      <th>proportional_error_p</th>\n",
       "    </tr>\n",
       "  </thead>\n",
       "  <tbody>\n",
       "    <tr>\n",
       "      <th>6</th>\n",
       "      <td>male</td>\n",
       "      <td>211</td>\n",
       "      <td>0.097325</td>\n",
       "      <td>0.105166</td>\n",
       "      <td>-0.007841</td>\n",
       "      <td>-17</td>\n",
       "      <td>-0.080569</td>\n",
       "    </tr>\n",
       "    <tr>\n",
       "      <th>10</th>\n",
       "      <td>white</td>\n",
       "      <td>226</td>\n",
       "      <td>0.175739</td>\n",
       "      <td>0.183515</td>\n",
       "      <td>-0.007776</td>\n",
       "      <td>-10</td>\n",
       "      <td>-0.044248</td>\n",
       "    </tr>\n",
       "    <tr>\n",
       "      <th>1</th>\n",
       "      <td>black</td>\n",
       "      <td>166</td>\n",
       "      <td>0.226467</td>\n",
       "      <td>0.215553</td>\n",
       "      <td>0.010914</td>\n",
       "      <td>8</td>\n",
       "      <td>0.048193</td>\n",
       "    </tr>\n",
       "    <tr>\n",
       "      <th>0</th>\n",
       "      <td>asian</td>\n",
       "      <td>10</td>\n",
       "      <td>0.053476</td>\n",
       "      <td>0.042781</td>\n",
       "      <td>0.010695</td>\n",
       "      <td>2</td>\n",
       "      <td>0.200000</td>\n",
       "    </tr>\n",
       "    <tr>\n",
       "      <th>3</th>\n",
       "      <td>female</td>\n",
       "      <td>244</td>\n",
       "      <td>0.089377</td>\n",
       "      <td>0.069963</td>\n",
       "      <td>0.019414</td>\n",
       "      <td>53</td>\n",
       "      <td>0.217213</td>\n",
       "    </tr>\n",
       "    <tr>\n",
       "      <th>7</th>\n",
       "      <td>muslim</td>\n",
       "      <td>174</td>\n",
       "      <td>0.163534</td>\n",
       "      <td>0.103383</td>\n",
       "      <td>0.060150</td>\n",
       "      <td>64</td>\n",
       "      <td>0.367816</td>\n",
       "    </tr>\n",
       "    <tr>\n",
       "      <th>8</th>\n",
       "      <td>psychiatric_or_mental_illness</td>\n",
       "      <td>25</td>\n",
       "      <td>0.126263</td>\n",
       "      <td>0.075758</td>\n",
       "      <td>0.050505</td>\n",
       "      <td>10</td>\n",
       "      <td>0.400000</td>\n",
       "    </tr>\n",
       "    <tr>\n",
       "      <th>2</th>\n",
       "      <td>christian</td>\n",
       "      <td>103</td>\n",
       "      <td>0.052046</td>\n",
       "      <td>0.029308</td>\n",
       "      <td>0.022739</td>\n",
       "      <td>45</td>\n",
       "      <td>0.436893</td>\n",
       "    </tr>\n",
       "    <tr>\n",
       "      <th>5</th>\n",
       "      <td>jewish</td>\n",
       "      <td>27</td>\n",
       "      <td>0.072000</td>\n",
       "      <td>0.040000</td>\n",
       "      <td>0.032000</td>\n",
       "      <td>12</td>\n",
       "      <td>0.444444</td>\n",
       "    </tr>\n",
       "    <tr>\n",
       "      <th>4</th>\n",
       "      <td>homosexual_gay_or_lesbian</td>\n",
       "      <td>104</td>\n",
       "      <td>0.198095</td>\n",
       "      <td>0.091429</td>\n",
       "      <td>0.106667</td>\n",
       "      <td>56</td>\n",
       "      <td>0.538462</td>\n",
       "    </tr>\n",
       "    <tr>\n",
       "      <th>9</th>\n",
       "      <td>transgender</td>\n",
       "      <td>13</td>\n",
       "      <td>0.126214</td>\n",
       "      <td>0.029126</td>\n",
       "      <td>0.097087</td>\n",
       "      <td>10</td>\n",
       "      <td>0.769231</td>\n",
       "    </tr>\n",
       "  </tbody>\n",
       "</table>\n",
       "</div>"
      ],
      "text/plain": [
       "                         minority  ...  proportional_error_p\n",
       "6                            male  ...             -0.080569\n",
       "10                          white  ...             -0.044248\n",
       "1                           black  ...              0.048193\n",
       "0                           asian  ...              0.200000\n",
       "3                          female  ...              0.217213\n",
       "7                          muslim  ...              0.367816\n",
       "8   psychiatric_or_mental_illness  ...              0.400000\n",
       "2                       christian  ...              0.436893\n",
       "5                          jewish  ...              0.444444\n",
       "4       homosexual_gay_or_lesbian  ...              0.538462\n",
       "9                     transgender  ...              0.769231\n",
       "\n",
       "[11 rows x 7 columns]"
      ]
     },
     "execution_count": 24,
     "metadata": {
      "tags": []
     },
     "output_type": "execute_result"
    }
   ],
   "source": [
    "## Proportional Classification Error\n",
    "### For each minority column estimate the proportions.\n",
    "#### Already done in the above cell.\n",
    "## Sort groups by highest proportional error\n",
    "diff_bias['proportional_error_abs'] = diff_bias.pos-(diff_bias.tp+diff_bias.fp)\n",
    "diff_bias['proportional_error_p'] = (diff_bias.pos-(diff_bias.tp+diff_bias.fp))/diff_bias.pos\n",
    "diff_bias['clf_pos_freq'] = (diff_bias.tp+diff_bias.fp) / diff_bias.n\n",
    "diff_bias['pos_freq'] = diff_bias['pos']/diff_bias.n\n",
    "diff_bias['proportional_error_freq'] = diff_bias['pos_freq'] - diff_bias['clf_pos_freq']\n",
    "diff_bias.sort_values('proportional_error_p')[['minority','pos','pos_freq','clf_pos_freq','proportional_error_freq','proportional_error_abs','proportional_error_p']]"
   ]
  },
  {
   "cell_type": "code",
   "execution_count": null,
   "metadata": {
    "colab": {
     "base_uri": "https://localhost:8080/",
     "height": 295
    },
    "colab_type": "code",
    "id": "Mhyy-KvevXLQ",
    "outputId": "57d68b67-ba5d-41b1-a733-f6518bf89ef6"
   },
   "outputs": [
    {
     "data": {
      "image/png": "[encoded data removed]",
      "text/plain": [
       "<Figure size 432x288 with 1 Axes>"
      ]
     },
     "metadata": {
      "needs_background": "light",
      "tags": []
     },
     "output_type": "display_data"
    }
   ],
   "source": [
    "plt.scatter(diff_bias['pos_freq'], diff_bias['clf_pos_freq'])\n",
    "plt.xlabel('True Propotion')\n",
    "plt.ylabel('Predicted Proportion')\n",
    "plt.title('Proportional Classification');"
   ]
  },
  {
   "cell_type": "code",
   "execution_count": null,
   "metadata": {
    "colab": {
     "base_uri": "https://localhost:8080/",
     "height": 72
    },
    "colab_type": "code",
    "id": "Sk0oLD-hsKzA",
    "outputId": "a67e01e5-d4c0-4969-964a-160742ce9c8f"
   },
   "outputs": [
    {
     "name": "stdout",
     "output_type": "stream",
     "text": [
      "Pearson r: 0.793\n",
      "RMSD freq: 0.003\n",
      "RMSD abs: 1169.727\n"
     ]
    }
   ],
   "source": [
    "import numpy as np\n",
    "print('Pearson r: %.3f'%np.corrcoef(diff_bias['pos_freq'],diff_bias.clf_pos_freq)[0][1])\n",
    "print('RMSD freq: %.3f'%sklearn.metrics.mean_squared_error(diff_bias.pos_freq,diff_bias.clf_pos_freq))\n",
    "print('RMSD abs: %.3f'%sklearn.metrics.mean_squared_error(diff_bias.pos,diff_bias.tp+diff_bias.fp))"
   ]
  },
  {
   "cell_type": "markdown",
   "metadata": {
    "colab_type": "text",
    "id": "yG2PkcijxvTV"
   },
   "source": [
    "## Investigate consequences for research question: \n",
    "###*Which minority insults are most are most frowned upon and most accepted.*\n",
    "Use the reaction columns `['funny','likes','sad','disagree']` to compute a reponse score for each minority group."
   ]
  },
  {
   "cell_type": "code",
   "execution_count": null,
   "metadata": {
    "colab": {},
    "colab_type": "code",
    "id": "YxzZYw2Es-Va"
   },
   "outputs": [],
   "source": [
    "# Collapse the minority columns to one column for easy access.\n",
    "def collapse_minority_cols(row):\n",
    "  cols = []\n",
    "  for col in minority_columns:\n",
    "      if row[col]>0.5:\n",
    "        cols.append(col)\n",
    "  if len(cols)==0:\n",
    "    return ['None']\n",
    "  return cols\n",
    "val_df['minority'] = val_df.apply(collapse_minority_cols,axis=1)\n",
    "\n"
   ]
  },
  {
   "cell_type": "code",
   "execution_count": 11,
   "metadata": {
    "colab": {
     "base_uri": "https://localhost:8080/",
     "height": 143
    },
    "colab_type": "code",
    "id": "35JA_Ekusgtc",
    "outputId": "783d896d-d52e-4dd7-b006-38dcd5fd7fbe"
   },
   "outputs": [
    {
     "data": {
      "text/html": [
       "<div>\n",
       "<style scoped>\n",
       "    .dataframe tbody tr th:only-of-type {\n",
       "        vertical-align: middle;\n",
       "    }\n",
       "\n",
       "    .dataframe tbody tr th {\n",
       "        vertical-align: top;\n",
       "    }\n",
       "\n",
       "    .dataframe thead th {\n",
       "        text-align: right;\n",
       "    }\n",
       "</style>\n",
       "<table border=\"1\" class=\"dataframe\">\n",
       "  <thead>\n",
       "    <tr style=\"text-align: right;\">\n",
       "      <th></th>\n",
       "      <th>funny</th>\n",
       "      <th>wow</th>\n",
       "      <th>sad</th>\n",
       "      <th>likes</th>\n",
       "      <th>disagree</th>\n",
       "    </tr>\n",
       "    <tr>\n",
       "      <th>label</th>\n",
       "      <th></th>\n",
       "      <th></th>\n",
       "      <th></th>\n",
       "      <th></th>\n",
       "      <th></th>\n",
       "    </tr>\n",
       "  </thead>\n",
       "  <tbody>\n",
       "    <tr>\n",
       "      <th>0</th>\n",
       "      <td>0.279366</td>\n",
       "      <td>0.043932</td>\n",
       "      <td>0.110482</td>\n",
       "      <td>2.451994</td>\n",
       "      <td>0.572788</td>\n",
       "    </tr>\n",
       "    <tr>\n",
       "      <th>1</th>\n",
       "      <td>0.230139</td>\n",
       "      <td>0.045122</td>\n",
       "      <td>0.115679</td>\n",
       "      <td>2.459756</td>\n",
       "      <td>0.627003</td>\n",
       "    </tr>\n",
       "  </tbody>\n",
       "</table>\n",
       "</div>"
      ],
      "text/plain": [
       "          funny       wow       sad     likes  disagree\n",
       "label                                                  \n",
       "0      0.279366  0.043932  0.110482  2.451994  0.572788\n",
       "1      0.230139  0.045122  0.115679  2.459756  0.627003"
      ]
     },
     "execution_count": 11,
     "metadata": {
      "tags": []
     },
     "output_type": "execute_result"
    }
   ],
   "source": [
    "#df.columns\n",
    "response_cols = [ 'funny', 'wow',\n",
    "       'sad', 'likes', 'disagree']\n",
    "\n",
    "val_df.groupby('label')[response_cols].mean()\n"
   ]
  },
  {
   "cell_type": "code",
   "execution_count": null,
   "metadata": {
    "colab": {},
    "colab_type": "code",
    "id": "ZrAAhh8qtnhg"
   },
   "outputs": [],
   "source": [
    "## Which Minority insults are most okay / most funny. I.e. gets most positive reactions comared to negative reactions.\n",
    "react = val_df.explode('minority').groupby(['minority','label']).apply(lambda x: (x['funny']+x['likes']-(x['disagree']+ x['sad'])).mean()).unstack().sort_values(1)[1]"
   ]
  },
  {
   "cell_type": "code",
   "execution_count": null,
   "metadata": {
    "colab": {
     "base_uri": "https://localhost:8080/",
     "height": 423
    },
    "colab_type": "code",
    "id": "Z2D6oyyEu4b6",
    "outputId": "6552263c-8a32-40af-cc3a-d978091115fa"
   },
   "outputs": [
    {
     "data": {
      "text/plain": [
       "minority\n",
       "intellectual_or_learning_disability    0.000000\n",
       "buddhist                               0.571429\n",
       "bisexual                               1.000000\n",
       "jewish                                 1.111111\n",
       "asian                                  1.354839\n",
       "white                                  1.409524\n",
       "transgender                            1.478261\n",
       "black                                  1.554945\n",
       "psychiatric_or_mental_illness          1.600000\n",
       "female                                 1.669355\n",
       "hindu                                  1.684211\n",
       "latino                                 1.730769\n",
       "male                                   1.751592\n",
       "muslim                                 1.818182\n",
       "None                                   1.826572\n",
       "christian                              2.233333\n",
       "homosexual_gay_or_lesbian              2.344828\n",
       "atheist                                2.470588\n",
       "heterosexual                           2.941176\n",
       "physical_disability                    3.000000\n",
       "Name: 1, dtype: float64"
      ]
     },
     "execution_count": 174,
     "metadata": {
      "tags": []
     },
     "output_type": "execute_result"
    }
   ],
   "source": [
    "react.sort_values()"
   ]
  },
  {
   "cell_type": "markdown",
   "metadata": {
    "colab_type": "text",
    "id": "dAc3KGdZvPXl"
   },
   "source": [
    "Apparently Physical Disability,heterosexual and atheists are the most okay. Where buddhist jewish and asian is **NOT OKAY**"
   ]
  },
  {
   "cell_type": "code",
   "execution_count": null,
   "metadata": {
    "colab": {
     "base_uri": "https://localhost:8080/",
     "height": 423
    },
    "colab_type": "code",
    "id": "O8e_LP3DxAOO",
    "outputId": "cca22c0c-3c89-491b-dcde-d1704a1c303d"
   },
   "outputs": [
    {
     "data": {
      "text/plain": [
       "minority\n",
       "hindu                                 -0.250000\n",
       "jewish                                 0.235294\n",
       "buddhist                               0.500000\n",
       "muslim                                 0.540541\n",
       "heterosexual                           0.666667\n",
       "female                                 0.884615\n",
       "christian                              1.033333\n",
       "psychiatric_or_mental_illness          1.086957\n",
       "black                                  1.348624\n",
       "homosexual_gay_or_lesbian              1.419355\n",
       "None                                   1.497925\n",
       "male                                   1.537313\n",
       "white                                  1.585586\n",
       "latino                                 1.750000\n",
       "atheist                                2.000000\n",
       "asian                                  2.000000\n",
       "transgender                            2.562500\n",
       "bisexual                               2.800000\n",
       "intellectual_or_learning_disability         NaN\n",
       "physical_disability                         NaN\n",
       "Name: 1, dtype: float64"
      ]
     },
     "execution_count": 175,
     "metadata": {
      "tags": []
     },
     "output_type": "execute_result"
    }
   ],
   "source": [
    "react_clf.sort_values()"
   ]
  },
  {
   "cell_type": "code",
   "execution_count": null,
   "metadata": {
    "colab": {
     "base_uri": "https://localhost:8080/",
     "height": 515
    },
    "colab_type": "code",
    "id": "ZSnLKlA-vcqD",
    "outputId": "b509ba3a-32d6-4803-a161-64d2da8d3fc9"
   },
   "outputs": [
    {
     "data": {
      "text/plain": [
       "Text(0, 0.5, 'classifier Based estimate')"
      ]
     },
     "execution_count": 173,
     "metadata": {
      "tags": []
     },
     "output_type": "execute_result"
    },
    {
     "data": {
      "image/png": "[encoded data removed]",
      "text/plain": [
       "<Figure size 864x576 with 1 Axes>"
      ]
     },
     "metadata": {
      "needs_background": "light",
      "tags": []
     },
     "output_type": "display_data"
    }
   ],
   "source": [
    "## Compare to Estimates made by the classifier\n",
    "react_clf = df.explode('minority').groupby(['minority','tf_prediction']).apply(lambda x: (x['funny']+x['likes']-(x['disagree']+ x['sad'])).mean()).unstack().sort_values(1)[1]\n",
    "plt.figure(figsize=(12,8))\n",
    "plt.scatter(react,react_clf[react.index])\n",
    "for idx in react.index:\n",
    "  xi,yi = react[idx],react_clf[idx]\n",
    "  plt.annotate(idx,(xi,yi),\n",
    "        fontsize=20,\n",
    "                textcoords='offset points', ha='right', va='bottom',\n",
    "        bbox=dict(boxstyle='round,pad=0.5', alpha=0))\n",
    "max_ = max(list(react.values)+list(react_clf.values))\n",
    "min_ = min(list(react.values)+list(react_clf.values))\n",
    "plt.plot(np.linspace(min_,max_),np.linspace(min_,max_),linestyle='--')\n",
    "plt.xlabel('true estimate')\n",
    "plt.ylabel('classifier Based estimate')\n"
   ]
  },
  {
   "cell_type": "markdown",
   "metadata": {
    "colab_type": "text",
    "id": "Ga41YgSkwSPi"
   },
   "source": [
    "The plot above shows that the classifier based estimate will make you conclude that bisexual and transgender insults are much more Okay (they seem to get more likes+funny than disagree and sad), and in the other end underestimating how okay it is to insult heterosexuals."
   ]
  },
  {
   "cell_type": "markdown",
   "metadata": {
    "colab_type": "text",
    "id": "Z4ErgqBNX52V"
   },
   "source": [
    "## 9.2 Correct the Bias using \"Ideal Method\" (i.e. that labelled and unlabelled are drawn randomly from the same distribution).\n",
    "Here we need to split the data into 3 sets: train, eval, and test. Because we need a decent amount of samples in the evaluation set, we need to use more of the \"expensive\" labelled data. Luckily we have a large toxicity dataset referenced under `tox_df` if you use my loading cell. \n",
    "  1. Train a new classifier on train data. \n",
    "  2. Estimate aggregrate confusion matrix, and then for individual minority groups on the evaluation data.\n",
    "  3. Apply classifier to the rest of the data (i.e. the test set) and correct the predictions. Report the proportional classification error as above, and comment on the improvement."
   ]
  },
  {
   "cell_type": "code",
   "execution_count": null,
   "metadata": {
    "colab": {},
    "colab_type": "code",
    "id": "v20VK53xypnZ"
   },
   "outputs": [],
   "source": [
    "# Compute prediction made by your models\n",
    "test_df['tf_prob'] = tfmodel.predict(test_df.comment_text)\n",
    "test_df['tf_prediction'] = (test_df.tf_prob>0.5).astype(int)\n",
    "x_trans = baseline.vectorizer.transform(test_df.comment_text)\n",
    "test_df['bow_prob'] = baseline.predict(x_trans)[:,1]\n",
    "test_df['bow_pred'] = (test_df.bow_prob>0.5).astype(int)\n",
    "\n",
    "train_df['tf_prob'] = tfmodel.predict(train_df.comment_text)\n",
    "train_df['tf_prediction'] = (train_df.tf_prob>0.5).astype(int)\n",
    "#train_df['bow_prob'] = baseline.predict(train_df.comment_text)\n",
    "x_trans = baseline.vectorizer.transform(train_df.comment_text)\n",
    "train_df['bow_prob'] = baseline.predict(x_trans)[:,1]\n",
    "train_df['bow_pred'] = (train_df.bow_prob>0.5).astype(int)\n",
    "\n",
    "train_df['label'] = pd.Categorical(train_df.label.astype(int))\n",
    "train_df['tf_prediction'] = pd.Categorical(train_df.tf_prediction)\n",
    "\n",
    "test_df['label'] = pd.Categorical(test_df.label.astype(int))\n",
    "test_df['tf_prediction'] = pd.Categorical(test_df.tf_prediction)\n"
   ]
  },
  {
   "cell_type": "code",
   "execution_count": 17,
   "metadata": {
    "colab": {
     "base_uri": "https://localhost:8080/",
     "height": 54
    },
    "colab_type": "code",
    "id": "sx9k62uRX_pE",
    "outputId": "d85f4d3a-b725-4a56-ced3-47d410156a34"
   },
   "outputs": [
    {
     "name": "stdout",
     "output_type": "stream",
     "text": [
      "(0.15718528672606807, 0.09367146447338359, 0.13518995335694156, 0.172878235578537)\n",
      "(0.15718528672606807, 0.07013936486177748, 0.12576136903590315, 0.12118998713627584)\n"
     ]
    }
   ],
   "source": [
    "## Solution 9.2 Bias Correction.\n",
    "## Correct absolute estimate\n",
    "def correct_estimate(est_df, val_df,pred_col = 'tf_prediction',true_col='label',prob_col='tf_prob'):\n",
    "  tn,fn,tp,fp,mat = get_confusion_matrix(est_df)\n",
    "  t_p = sum(val_df[true_col]==1)/len(val_df)\n",
    "  p_hat = sum(val_df[pred_col]==1)\n",
    "  n_hat = len(val_df)-p_hat\n",
    "  uncorr_p = p_hat/len(val_df)\n",
    "  corr_p = (tp-fp)/(tp+fp)\n",
    "  corr_n = fn/(fn+tn)\n",
    "  p_corr = p_hat*corr_p + n_hat*corr_n\n",
    "  p_corr = p_corr/len(val_df)\n",
    "  prob_est = val_df[prob_col].mean()\n",
    "  # true p, uncorrection p, corrected p, p estimated using probability output instead of hardprediction.\n",
    "  return t_p,uncorr_p,p_corr,prob_est  \n",
    "print(correct_estimate(train_df,test_df))\n",
    "print(correct_estimate(train_df,test_df,pred_col='bow_pred',prob_col='bow_prob'))"
   ]
  },
  {
   "cell_type": "code",
   "execution_count": null,
   "metadata": {
    "colab": {},
    "colab_type": "code",
    "id": "tJzRe5163gkI"
   },
   "outputs": [],
   "source": [
    "dat = []\n",
    "for col in minority_columns:\n",
    "  temp_train = train_df[train_df[col]>0.5]\n",
    "  temp_test = test_df[test_df[col]>0.5]\n",
    "  t_p,uncorr_p,p_corr,prob_est = correct_estimate(temp_train,temp_test)\n",
    "  d = {'true_proportion':t_p,'uncorrected':uncorr_p,'corrected':p_corr,'corrected_prob':prob_est,'minority':col,'n':len(temp_train)}\n",
    "  dat.append(d)\n",
    "prop_bias = pd.DataFrame(dat).dropna()"
   ]
  },
  {
   "cell_type": "code",
   "execution_count": null,
   "metadata": {
    "colab": {},
    "colab_type": "code",
    "id": "TALsDOig4MCl"
   },
   "outputs": [],
   "source": [
    "prop_bias['corr_diff'] = prop_bias['corrected']-prop_bias['true_proportion']\n",
    "prop_bias['uncorr_diff'] = prop_bias['uncorrected']-prop_bias['true_proportion']"
   ]
  },
  {
   "cell_type": "code",
   "execution_count": 24,
   "metadata": {
    "colab": {
     "base_uri": "https://localhost:8080/",
     "height": 423
    },
    "colab_type": "code",
    "id": "pKgHdUSo5iFy",
    "outputId": "59e81ad1-5130-418e-8c18-8936d665dc36"
   },
   "outputs": [
    {
     "data": {
      "text/html": [
       "\n",
       "<div id=\"altair-viz-da6036645859418d842467e7cdc2bcc1\"></div>\n",
       "<script type=\"text/javascript\">\n",
       "  (function(spec, embedOpt){\n",
       "    let outputDiv = document.currentScript.previousElementSibling;\n",
       "    if (outputDiv.id !== \"altair-viz-da6036645859418d842467e7cdc2bcc1\") {\n",
       "      outputDiv = document.getElementById(\"altair-viz-da6036645859418d842467e7cdc2bcc1\");\n",
       "    }\n",
       "    const paths = {\n",
       "      \"vega\": \"https://cdn.jsdelivr.net/npm//vega@5?noext\",\n",
       "      \"vega-lib\": \"https://cdn.jsdelivr.net/npm//vega-lib?noext\",\n",
       "      \"vega-lite\": \"https://cdn.jsdelivr.net/npm//vega-lite@4.8.1?noext\",\n",
       "      \"vega-embed\": \"https://cdn.jsdelivr.net/npm//vega-embed@6?noext\",\n",
       "    };\n",
       "\n",
       "    function loadScript(lib) {\n",
       "      return new Promise(function(resolve, reject) {\n",
       "        var s = document.createElement('script');\n",
       "        s.src = paths[lib];\n",
       "        s.async = true;\n",
       "        s.onload = () => resolve(paths[lib]);\n",
       "        s.onerror = () => reject(`Error loading script: ${paths[lib]}`);\n",
       "        document.getElementsByTagName(\"head\")[0].appendChild(s);\n",
       "      });\n",
       "    }\n",
       "\n",
       "    function showError(err) {\n",
       "      outputDiv.innerHTML = `<div class=\"error\" style=\"color:red;\">${err}</div>`;\n",
       "      throw err;\n",
       "    }\n",
       "\n",
       "    function displayChart(vegaEmbed) {\n",
       "      vegaEmbed(outputDiv, spec, embedOpt)\n",
       "        .catch(err => showError(`Javascript Error: ${err.message}<br>This usually means there's a typo in your chart specification. See the javascript console for the full traceback.`));\n",
       "    }\n",
       "\n",
       "    if(typeof define === \"function\" && define.amd) {\n",
       "      requirejs.config({paths});\n",
       "      require([\"vega-embed\"], displayChart, err => showError(`Error loading script: ${err.message}`));\n",
       "    } else if (typeof vegaEmbed === \"function\") {\n",
       "      displayChart(vegaEmbed);\n",
       "    } else {\n",
       "      loadScript(\"vega\")\n",
       "        .then(() => loadScript(\"vega-lite\"))\n",
       "        .then(() => loadScript(\"vega-embed\"))\n",
       "        .catch(showError)\n",
       "        .then(() => displayChart(vegaEmbed));\n",
       "    }\n",
       "  })({\"config\": {\"view\": {\"continuousWidth\": 400, \"continuousHeight\": 300}}, \"data\": {\"name\": \"data-5a0ae8d592604c254ca1345499e733fb\"}, \"mark\": \"point\", \"encoding\": {\"color\": {\"type\": \"nominal\", \"field\": \"minority\"}, \"size\": {\"type\": \"quantitative\", \"field\": \"n\"}, \"tooltip\": [{\"type\": \"quantitative\", \"field\": \"n\"}, {\"type\": \"nominal\", \"field\": \"minority\"}], \"x\": {\"type\": \"quantitative\", \"field\": \"corr_diff\"}, \"y\": {\"type\": \"quantitative\", \"field\": \"uncorr_diff\"}}, \"selection\": {\"selector002\": {\"type\": \"interval\", \"bind\": \"scales\", \"encodings\": [\"x\", \"y\"]}}, \"$schema\": \"https://vega.github.io/schema/vega-lite/v4.8.1.json\", \"datasets\": {\"data-5a0ae8d592604c254ca1345499e733fb\": [{\"true_proportion\": 0.09090909090909091, \"uncorrected\": 0.06293706293706294, \"corrected\": 0.10402748616148119, \"corrected_prob\": 0.17526811361312866, \"minority\": \"asian\", \"n\": 230, \"corr_diff\": 0.01311839525239028, \"uncorr_diff\": -0.02797202797202797}, {\"true_proportion\": 0.08943089430894309, \"uncorrected\": 0.06504065040650407, \"corrected\": 0.11954500710926393, \"corrected_prob\": 0.1267460137605667, \"minority\": \"atheist\", \"n\": 227, \"corr_diff\": 0.030114112800320836, \"uncorr_diff\": -0.02439024390243902}, {\"true_proportion\": 0.08333333333333333, \"uncorrected\": 0.020833333333333332, \"corrected\": 0.08226495726495726, \"corrected_prob\": 0.1231241524219513, \"minority\": \"bisexual\", \"n\": 123, \"corr_diff\": -0.0010683760683760646, \"uncorr_diff\": -0.0625}, {\"true_proportion\": 0.29583333333333334, \"uncorrected\": 0.225, \"corrected\": 0.23909673418768088, \"corrected_prob\": 0.28807929158210754, \"minority\": \"black\", \"n\": 528, \"corr_diff\": -0.05673659914565246, \"uncorr_diff\": -0.07083333333333333}, {\"true_proportion\": 0.041666666666666664, \"uncorrected\": 0.0, \"corrected\": 0.045662100456621, \"corrected_prob\": 0.05503831058740616, \"minority\": \"buddhist\", \"n\": 222, \"corr_diff\": 0.003995433789954338, \"uncorr_diff\": -0.041666666666666664}, {\"true_proportion\": 0.11684782608695653, \"uncorrected\": 0.04619565217391304, \"corrected\": 0.09365551642718488, \"corrected_prob\": 0.10129616409540176, \"minority\": \"christian\", \"n\": 790, \"corr_diff\": -0.02319230965977165, \"uncorr_diff\": -0.07065217391304349}, {\"true_proportion\": 0.1657142857142857, \"uncorrected\": 0.04857142857142857, \"corrected\": 0.10325627838266674, \"corrected_prob\": 0.1456160992383957, \"minority\": \"female\", \"n\": 802, \"corr_diff\": -0.062458007331618964, \"uncorr_diff\": -0.11714285714285713}, {\"true_proportion\": 0.13675213675213677, \"uncorrected\": 0.1111111111111111, \"corrected\": 0.09209049559926752, \"corrected_prob\": 0.167452871799469, \"minority\": \"heterosexual\", \"n\": 217, \"corr_diff\": -0.04466164115286925, \"uncorr_diff\": -0.02564102564102566}, {\"true_proportion\": 0.0660377358490566, \"uncorrected\": 0.018867924528301886, \"corrected\": 0.050500940853379445, \"corrected_prob\": 0.07150984555482864, \"minority\": \"hindu\", \"n\": 219, \"corr_diff\": -0.015536794995677158, \"uncorr_diff\": -0.04716981132075472}, {\"true_proportion\": 0.20149253731343283, \"uncorrected\": 0.1044776119402985, \"corrected\": 0.19002092893006983, \"corrected_prob\": 0.19159039855003357, \"minority\": \"homosexual_gay_or_lesbian\", \"n\": 552, \"corr_diff\": -0.011471608383363002, \"uncorr_diff\": -0.09701492537313433}, {\"true_proportion\": 0.14795918367346939, \"uncorrected\": 0.03571428571428571, \"corrected\": 0.10739495798319326, \"corrected_prob\": 0.11881385743618011, \"minority\": \"jewish\", \"n\": 382, \"corr_diff\": -0.04056422569027612, \"uncorr_diff\": -0.11224489795918367}, {\"true_proportion\": 0.16101694915254236, \"uncorrected\": 0.03389830508474576, \"corrected\": 0.100214453691406, \"corrected_prob\": 0.1254589557647705, \"minority\": \"latino\", \"n\": 227, \"corr_diff\": -0.06080249546113636, \"uncorr_diff\": -0.1271186440677966}, {\"true_proportion\": 0.2054794520547945, \"uncorrected\": 0.14246575342465753, \"corrected\": 0.13163872287159958, \"corrected_prob\": 0.21672283113002777, \"minority\": \"male\", \"n\": 771, \"corr_diff\": -0.07384072918319493, \"uncorr_diff\": -0.06301369863013698}, {\"true_proportion\": 0.2078853046594982, \"uncorrected\": 0.05734767025089606, \"corrected\": 0.17211514991605176, \"corrected_prob\": 0.14644774794578552, \"minority\": \"muslim\", \"n\": 647, \"corr_diff\": -0.03577015474344644, \"uncorr_diff\": -0.15053763440860213}, {\"true_proportion\": 0.18181818181818182, \"uncorrected\": 0.08181818181818182, \"corrected\": 0.13988021111308782, \"corrected_prob\": 0.15566647052764893, \"minority\": \"psychiatric_or_mental_illness\", \"n\": 240, \"corr_diff\": -0.041937970705094, \"uncorr_diff\": -0.1}, {\"true_proportion\": 0.23387096774193547, \"uncorrected\": 0.06451612903225806, \"corrected\": 0.12335241068331598, \"corrected_prob\": 0.15956062078475952, \"minority\": \"transgender\", \"n\": 266, \"corr_diff\": -0.11051855705861949, \"uncorr_diff\": -0.1693548387096774}, {\"true_proportion\": 0.25663716814159293, \"uncorrected\": 0.17404129793510326, \"corrected\": 0.2317969232636941, \"corrected_prob\": 0.27721279859542847, \"minority\": \"white\", \"n\": 591, \"corr_diff\": -0.02484024487789882, \"uncorr_diff\": -0.08259587020648967}]}}, {\"mode\": \"vega-lite\"});\n",
       "</script>"
      ],
      "text/plain": [
       "alt.Chart(...)"
      ]
     },
     "execution_count": 24,
     "metadata": {
      "tags": []
     },
     "output_type": "execute_result"
    }
   ],
   "source": [
    "\n",
    "import altair as alt\n",
    "alt.Chart(prop_bias).mark_point().encode(\n",
    "    x='corr_diff',\n",
    "    y='uncorr_diff',\n",
    "    size = 'n',\n",
    "    color='minority',\n",
    "    tooltip=['n', 'minority'] # show number of training samples from minority\n",
    ").interactive()"
   ]
  },
  {
   "cell_type": "code",
   "execution_count": 25,
   "metadata": {
    "colab": {
     "base_uri": "https://localhost:8080/",
     "height": 35
    },
    "colab_type": "code",
    "id": "hqVjMb7l5bTo",
    "outputId": "c7f396aa-5738-4043-dd6c-b57eb2b2eb6d"
   },
   "outputs": [
    {
     "data": {
      "text/plain": [
       "(0.8759373703000263, 0.7915372212388888)"
      ]
     },
     "execution_count": 25,
     "metadata": {
      "tags": []
     },
     "output_type": "execute_result"
    }
   ],
   "source": [
    "\n",
    "np.corrcoef(prop_bias.corrected,prop_bias.true_proportion)[0][1],np.corrcoef(prop_bias.uncorrected,prop_bias.true_proportion)[0][1]"
   ]
  },
  {
   "cell_type": "markdown",
   "metadata": {
    "colab_type": "text",
    "id": "FK1tJx_iYCaV"
   },
   "source": [
    "## 9.3. Compare to the direct estimation method suggested by Hopkins & King 2010 and Jerzak, King, and Strezhnev 2020. \n",
    "Since the methods proposed in the above papers, is based on other feature representation schemes, it is not entirely meaningful as a comparison to the *Classify-and-count\" method. Instead we use the same feature representation as the classifier, i.e. the Universal Sentence Encoder, and estimate the equation.\n",
    "\n",
    "As referenced from the text by Hopkins and King:\n",
    "\n",
    "\"*think of P(D) as the unknown “regression coefficients”  $\\beta$, P(S|D) as the “explanatory variables” matrix X, and P(S) as the “dependentvariable” Y.*\"\n",
    "\n",
    "Where P(D) is the probability of a document category (observed as no. of Positive Labels in the training set). P(S) is the probability of the document feature representation (again observed in the training data). P(S|D) is the probability of the Document Representation given Document Category D, which should be estimated using the standard linear regression calculations. I.e. solve for $\\beta$: \n",
    "\n",
    "$\\beta=\\left(X^{\\prime} X\\right)^{-1} X^{\\prime} y$\n",
    "\n",
    "So what you need to do is the following:\n",
    "1. Encode the texts from the data to define your x_train and x_test.\n",
    "2. Estimate P(S|D) i.e. $\\beta$. **hint**: use the `np.linalg.inv` function, the `.T` and the `.dot` function.\n",
    "3. Estimate Proportions of each document in the test data by taking the dot product between P(S) and $\\beta$. \n",
    "4. Aggregate to estimate proportions.\n",
    "  - Report overall and individual minority proportions estimated compared to the test. \n",
    "  - Report measures for Proporational classification (rmsd and correlation).\n",
    "\n"
   ]
  },
  {
   "cell_type": "code",
   "execution_count": 49,
   "metadata": {
    "colab": {
     "base_uri": "https://localhost:8080/",
     "height": 80
    },
    "colab_type": "code",
    "id": "jT8_IKuQ4-9O",
    "outputId": "29685583-ddbf-4499-f33b-86a3c5b80b71"
   },
   "outputs": [
    {
     "data": {
      "text/html": [
       "<div>\n",
       "<style scoped>\n",
       "    .dataframe tbody tr th:only-of-type {\n",
       "        vertical-align: middle;\n",
       "    }\n",
       "\n",
       "    .dataframe tbody tr th {\n",
       "        vertical-align: top;\n",
       "    }\n",
       "\n",
       "    .dataframe thead th {\n",
       "        text-align: right;\n",
       "    }\n",
       "</style>\n",
       "<table border=\"1\" class=\"dataframe\">\n",
       "  <thead>\n",
       "    <tr style=\"text-align: right;\">\n",
       "      <th></th>\n",
       "      <th>true_p</th>\n",
       "      <th>direct_estimate(Hopkins and King)</th>\n",
       "      <th>Classify&amp;Count</th>\n",
       "    </tr>\n",
       "  </thead>\n",
       "  <tbody>\n",
       "    <tr>\n",
       "      <th>0</th>\n",
       "      <td>0.157185</td>\n",
       "      <td>0.161323</td>\n",
       "      <td>0.093671</td>\n",
       "    </tr>\n",
       "  </tbody>\n",
       "</table>\n",
       "</div>"
      ],
      "text/plain": [
       "     true_p  direct_estimate(Hopkins and King)  Classify&Count\n",
       "0  0.157185                           0.161323        0.093671"
      ]
     },
     "execution_count": 49,
     "metadata": {
      "tags": []
     },
     "output_type": "execute_result"
    }
   ],
   "source": [
    "import numpy as np\n",
    "# Solution 9.3: Direct estimation\n",
    "## Encode text using the Universal Feature Encoder (hint: use the \"hublayer-only\"-model you clone when training your classifier)\n",
    "X_train_use = basetfmodel(train_df.comment_text.values).numpy()\n",
    "X_test_use = basetfmodel(test_df.comment_text.values).numpy()\n",
    "B = np.linalg.inv(X_train_use.T.dot(X_train_use)).dot(X_train_use.T.dot(train_df.label))\n",
    "\n",
    "\n",
    "pd.DataFrame([{'True_proportion':test_df.label.astype(int).mean(),'direct_estimate(Hopkins and King)':X_test_use.dot(B).mean(),'Classify&Count':test_df.tf_prediction.astype(int).mean()}])"
   ]
  },
  {
   "cell_type": "code",
   "execution_count": 50,
   "metadata": {
    "colab": {
     "base_uri": "https://localhost:8080/",
     "height": 54
    },
    "colab_type": "code",
    "id": "wt2Ehm4m9gYQ",
    "outputId": "88edc421-acdd-4617-8599-c95f4dfb4762"
   },
   "outputs": [
    {
     "name": "stdout",
     "output_type": "stream",
     "text": [
      "CPU times: user 6.69 s, sys: 504 ms, total: 7.19 s\n",
      "Wall time: 5.09 s\n"
     ]
    }
   ],
   "source": [
    "X_use = basetfmodel(df.comment_text.values).numpy()\n",
    "%time df['tf_prob'] = tfmodel.predict(df.comment_text)\n",
    "df['tf_prediction'] = (df.tf_prob>0.5).astype(int)\n"
   ]
  },
  {
   "cell_type": "code",
   "execution_count": null,
   "metadata": {
    "colab": {},
    "colab_type": "code",
    "id": "RlL2BN3D_91v"
   },
   "outputs": [],
   "source": [
    "dat = []\n",
    "for minority in minority_columns:\n",
    "  temp_idx = df[minority]>0.5\n",
    "  temp_X = X_use[temp_idx.values]\n",
    "  # direct estimate\n",
    "  est_dir = temp_X.dot(B).mean()\n",
    "  # clf and count estimate\n",
    "  est_cc = df[temp_idx].tf_prediction.mean()\n",
    "  ## calculate diffs\n",
    "  tp = df[temp_idx].label.mean()\n",
    "  diff_dir = est_dir-tp\n",
    "  diff_cc = est_cc-tp\n",
    "  d = {'True_proportion':tp,'direct_estimate(H&K2010)':est_dir,'Classify&Count':est_cc,'minority':minority,\n",
    "       'diff_dir':diff_dir,'diff_cc':diff_cc}\n",
    "  dat.append(d)\n",
    "dir_est_df = pd.DataFrame(dat)"
   ]
  },
  {
   "cell_type": "code",
   "execution_count": 74,
   "metadata": {
    "colab": {
     "base_uri": "https://localhost:8080/",
     "height": 206
    },
    "colab_type": "code",
    "id": "1RNsuhujAuE7",
    "outputId": "f86ed005-cdc6-45e2-b4ce-a50a7d5f578b"
   },
   "outputs": [
    {
     "data": {
      "text/html": [
       "<div>\n",
       "<style scoped>\n",
       "    .dataframe tbody tr th:only-of-type {\n",
       "        vertical-align: middle;\n",
       "    }\n",
       "\n",
       "    .dataframe tbody tr th {\n",
       "        vertical-align: top;\n",
       "    }\n",
       "\n",
       "    .dataframe thead th {\n",
       "        text-align: right;\n",
       "    }\n",
       "</style>\n",
       "<table border=\"1\" class=\"dataframe\">\n",
       "  <thead>\n",
       "    <tr style=\"text-align: right;\">\n",
       "      <th></th>\n",
       "      <th>True_proportion</th>\n",
       "      <th>direct_estimate(H&amp;K2010)</th>\n",
       "      <th>Classify&amp;Count</th>\n",
       "      <th>diff_dir</th>\n",
       "      <th>diff_cc</th>\n",
       "    </tr>\n",
       "  </thead>\n",
       "  <tbody>\n",
       "    <tr>\n",
       "      <th>True_proportion</th>\n",
       "      <td>1.000000</td>\n",
       "      <td>0.952019</td>\n",
       "      <td>0.926245</td>\n",
       "      <td>-0.565215</td>\n",
       "      <td>-0.687052</td>\n",
       "    </tr>\n",
       "    <tr>\n",
       "      <th>direct_estimate(H&amp;K2010)</th>\n",
       "      <td>0.952019</td>\n",
       "      <td>1.000000</td>\n",
       "      <td>0.962278</td>\n",
       "      <td>-0.285631</td>\n",
       "      <td>-0.498952</td>\n",
       "    </tr>\n",
       "    <tr>\n",
       "      <th>Classify&amp;Count</th>\n",
       "      <td>0.926245</td>\n",
       "      <td>0.962278</td>\n",
       "      <td>1.000000</td>\n",
       "      <td>-0.306603</td>\n",
       "      <td>-0.362504</td>\n",
       "    </tr>\n",
       "    <tr>\n",
       "      <th>diff_dir</th>\n",
       "      <td>-0.565215</td>\n",
       "      <td>-0.285631</td>\n",
       "      <td>-0.306603</td>\n",
       "      <td>1.000000</td>\n",
       "      <td>0.806506</td>\n",
       "    </tr>\n",
       "    <tr>\n",
       "      <th>diff_cc</th>\n",
       "      <td>-0.687052</td>\n",
       "      <td>-0.498952</td>\n",
       "      <td>-0.362504</td>\n",
       "      <td>0.806506</td>\n",
       "      <td>1.000000</td>\n",
       "    </tr>\n",
       "  </tbody>\n",
       "</table>\n",
       "</div>"
      ],
      "text/plain": [
       "                          True_proportion  ...   diff_cc\n",
       "True_proportion                  1.000000  ... -0.687052\n",
       "direct_estimate(H&K2010)         0.952019  ... -0.498952\n",
       "Classify&Count                   0.926245  ... -0.362504\n",
       "diff_dir                        -0.565215  ...  0.806506\n",
       "diff_cc                         -0.687052  ...  1.000000\n",
       "\n",
       "[5 rows x 5 columns]"
      ]
     },
     "execution_count": 74,
     "metadata": {
      "tags": []
     },
     "output_type": "execute_result"
    }
   ],
   "source": [
    "dir_est_df.corr()"
   ]
  },
  {
   "cell_type": "markdown",
   "metadata": {
    "colab_type": "text",
    "id": "qxtDAfYcI0tn"
   },
   "source": [
    "## Exercise 9.4: Bias detection using critical test cases\n",
    "This is about making the bias of the model visible, by questioning specific dimensions (e.g. race, gender, age).. Method is demonstrated in the paper: [\"Examining Gender and Race Bias in Two Hundred Sentiment Analysis Systems\"](https://arxiv.org/abs/1805.04508) by Kiritchenko & Mohammad 2018:. [data](https://saifmohammad.com/WebDocs/EEC/Equity-Evaluation-Corpus.zip)\n",
    "You will use this data to test a pretrained system. Then you will practice curate your own specific \"bias-detection-scheme\", by combining the methods you have learned so far: keyword exploration using the [King, Lam and Robert 2017](https://gking.harvard.edu/publications/computer-assisted-keyword-and-document-set-discovery-fromunstructured-text)'s method - exercise set for week 7, universal dependence parsing with stanfordnlp now known as the [`stanza`](https://stanfordnlp.github.io/stanza/) package. \n",
    "You will use this to create what is known as data augmentation scheme which can be used both for \"bias detection\" as well as \"bias mitigation\". \n",
    "\n",
    "First are some helper functions for preparing the data and models you should use. \n",
    "\n"
   ]
  },
  {
   "cell_type": "markdown",
   "metadata": {
    "colab_type": "text",
    "id": "av6OGtvnO-0W"
   },
   "source": [
    "## Loading bias detection data"
   ]
  },
  {
   "cell_type": "code",
   "execution_count": null,
   "metadata": {
    "colab": {
     "base_uri": "https://localhost:8080/",
     "height": 220
    },
    "colab_type": "code",
    "id": "DMHLO7sDLrF_",
    "outputId": "4fd3715a-d811-48fe-b862-2ff4f45e5aec"
   },
   "outputs": [
    {
     "name": "stdout",
     "output_type": "stream",
     "text": [
      "--2020-04-02 09:24:29--  https://saifmohammad.com/WebDocs/EEC/Equity-Evaluation-Corpus.zip\n",
      "Resolving saifmohammad.com (saifmohammad.com)... 192.185.17.122\n",
      "Connecting to saifmohammad.com (saifmohammad.com)|192.185.17.122|:443... connected.\n",
      "HTTP request sent, awaiting response... 200 OK\n",
      "Length: 1669592 (1.6M) [application/zip]\n",
      "Saving to: ‘Equity-Evaluation-Corpus.zip.7’\n",
      "\n",
      "Equity-Evaluation-C 100%[===================>]   1.59M  1.44MB/s    in 1.1s    \n",
      "\n",
      "2020-04-02 09:24:30 (1.44 MB/s) - ‘Equity-Evaluation-Corpus.zip.7’ saved [1669592/1669592]\n",
      "\n"
     ]
    }
   ],
   "source": [
    "## Download the equity evaluation corpus\n",
    "### linux commandline version\n",
    "link = 'https://saifmohammad.com/WebDocs/EEC/Equity-Evaluation-Corpus.zip'\n",
    "! wget {link}\n",
    "path = link.split('/')[-1]\n",
    "dir_to_extr = 'bias_dataset'\n",
    "import os\n",
    "if not os.path.isdir(dir_to_extr):\n",
    "  os.mkdir(dir_to_extr)\n",
    "\n",
    "#! unzip {path} -d {dir_to_extr]\n",
    "os.system('unzip %s -d %s'%(path,dir_to_extr))"
   ]
  },
  {
   "cell_type": "code",
   "execution_count": null,
   "metadata": {
    "colab": {},
    "colab_type": "code",
    "id": "3-xSLhkuMPmE"
   },
   "outputs": [],
   "source": [
    "## Download the equity evaluation corpus\n",
    "### Python version\n",
    "import requests\n",
    "link = 'https://saifmohammad.com/WebDocs/EEC/Equity-Evaluation-Corpus.zip'\n",
    "session = requests.session()\n",
    "session.headers = '' # for some reason they block explicit python requests.\n",
    "response = session.get(link)\n",
    "with open('Equity-Evaluation-Corpus.zip','wb') as f:\n",
    "    f.write(response.content)\n",
    "import zipfile\n",
    "zip_ref = zipfile.ZipFile('Equity-Evaluation-Corpus.zip', 'r')\n",
    "dir_to_extr = 'bias_dataset'\n",
    "import os\n",
    "if not os.path.isdir(dir_to_extr):\n",
    "    os.mkdir(dir_to_extr)\n",
    "zip_ref.extractall(dir_to_extr)\n",
    "zip_ref.close()"
   ]
  },
  {
   "cell_type": "code",
   "execution_count": null,
   "metadata": {
    "colab": {},
    "colab_type": "code",
    "id": "lkfptWhNKjxN"
   },
   "outputs": [],
   "source": [
    "import pandas as pd\n",
    "dir_to_extr = 'bias_dataset/Equity-Evaluation-Corpus'\n",
    "bias_df = pd.read_csv(dir_to_extr+'/Equity-Evaluation-Corpus.csv')"
   ]
  },
  {
   "cell_type": "markdown",
   "metadata": {
    "colab_type": "text",
    "id": "jS0AlsLYPHLL"
   },
   "source": [
    "## Loading the deepmoji model. \n",
    "As transfer learning is about using pretrained models, one has to be flexible in relation to the choice of deep learning framework. A working model of the DeepMoji is implemented by the [HuggingFace team](https://huggingface.co/welcome) under the name [TorchMoji](https://github.com/huggingface/torchMoji), which is basically a Pytorch implementation adapted from the python 2.7 Keras implementation made by Bjarke Felbo (https://github.com/bfelbo/DeepMoji/tree/master/deepmoji). \n",
    "\n",
    "The script will do the following:\n",
    "- Clone the github repo. \n",
    "- Download the model weights \n",
    "- install dependencies hereunder the `emoji` python package.\n",
    "- Add the torchmoji to the python syspath for easy import. \n",
    "- Load the tokenizer that deepmoji depends on.\n",
    "- Load the model.\n",
    "- Define a helper function for translating \"literal-emojies\" to unicode emojies."
   ]
  },
  {
   "cell_type": "code",
   "execution_count": null,
   "metadata": {
    "colab": {
     "base_uri": "https://localhost:8080/",
     "height": 868
    },
    "colab_type": "code",
    "id": "ihZRfDW-P_7J",
    "outputId": "eaec1277-1305-4f24-ceac-704a326b3be4"
   },
   "outputs": [
    {
     "name": "stdout",
     "output_type": "stream",
     "text": [
      "Cloning into 'torchMoji'...\n",
      "remote: Enumerating objects: 143, done.\u001b[K\n",
      "remote: Total 143 (delta 0), reused 0 (delta 0), pack-reused 143\u001b[K\n",
      "Receiving objects: 100% (143/143), 2.41 MiB | 4.19 MiB/s, done.\n",
      "Resolving deltas: 100% (49/49), done.\n",
      "About to download the pretrained weights file from https://www.dropbox.com/s/q8lax9ary32c7t9/pytorch_model.bin?dl=0#\n",
      "The size of the file is roughly 85MB. Continue? [y/n]\n",
      "y\n",
      "Downloading...\n",
      "Running system call: wget https://www.dropbox.com/s/q8lax9ary32c7t9/pytorch_model.bin?dl=0# -O /content/torchMoji/model/pytorch_model.bin\n",
      "--2020-04-02 12:00:35--  https://www.dropbox.com/s/q8lax9ary32c7t9/pytorch_model.bin?dl=0\n",
      "Resolving www.dropbox.com (www.dropbox.com)... 162.125.65.1, 2620:100:6021:1::a27d:4101\n",
      "Connecting to www.dropbox.com (www.dropbox.com)|162.125.65.1|:443... connected.\n",
      "HTTP request sent, awaiting response... 301 Moved Permanently\n",
      "Location: /s/raw/q8lax9ary32c7t9/pytorch_model.bin [following]\n",
      "--2020-04-02 12:00:35--  https://www.dropbox.com/s/raw/q8lax9ary32c7t9/pytorch_model.bin\n",
      "Reusing existing connection to www.dropbox.com:443.\n",
      "HTTP request sent, awaiting response... 302 Found\n",
      "Location: https://ucce3d2fc56ffb8b8658d2ead54d.dl.dropboxusercontent.com/cd/0/inline/A1H5v686UPLl1KxUKE7c92ZBoa6GRXQc6HAqNirW9bNX8-bi8K6Rt27TkgN7x5VQb8CGLldZSqqch2Q1hYp6hZy3W_JFkZuOtGFy91TSSS0JbA/file# [following]\n",
      "--2020-04-02 12:00:36--  https://ucce3d2fc56ffb8b8658d2ead54d.dl.dropboxusercontent.com/cd/0/inline/A1H5v686UPLl1KxUKE7c92ZBoa6GRXQc6HAqNirW9bNX8-bi8K6Rt27TkgN7x5VQb8CGLldZSqqch2Q1hYp6hZy3W_JFkZuOtGFy91TSSS0JbA/file\n",
      "Resolving ucce3d2fc56ffb8b8658d2ead54d.dl.dropboxusercontent.com (ucce3d2fc56ffb8b8658d2ead54d.dl.dropboxusercontent.com)... 162.125.65.6, 2620:100:6021:6::a27d:4106\n",
      "Connecting to ucce3d2fc56ffb8b8658d2ead54d.dl.dropboxusercontent.com (ucce3d2fc56ffb8b8658d2ead54d.dl.dropboxusercontent.com)|162.125.65.6|:443... connected.\n",
      "HTTP request sent, awaiting response... 302 FOUND\n",
      "Location: /cd/0/inline2/A1EoyZ2Hf7VVAJukCvxYTRhz5BBV_aEClfKytEPNfcGJVul7N-uh2t6FDSVohcH1S9yuSKHvj1rKLJSzj8J8Wxuxu32VZFRcZ6j6z7uuyqdq2GnWlZHEVcS2QPaNNxxq_f-LTIqBCRr6hv2E59HwYaPkQN8gSaoz0Gj8h5oMqnYLW7HK8TQ__XwN-WKBs8rh01SLTVYGhmhmPGrx_Va5YxXYkyp_NX5s9aPoomKnoH4salYhOfulNtWuZROSckEj2MjgWtuxAC28ZwozTUx7749kNsTAN0DbiigFk3FIAyyP6SHdGHY-42tJtXe4dyRM-OoTMJgravE6ZtDYJBx4GcLr/file [following]\n",
      "--2020-04-02 12:00:37--  https://ucce3d2fc56ffb8b8658d2ead54d.dl.dropboxusercontent.com/cd/0/inline2/A1EoyZ2Hf7VVAJukCvxYTRhz5BBV_aEClfKytEPNfcGJVul7N-uh2t6FDSVohcH1S9yuSKHvj1rKLJSzj8J8Wxuxu32VZFRcZ6j6z7uuyqdq2GnWlZHEVcS2QPaNNxxq_f-LTIqBCRr6hv2E59HwYaPkQN8gSaoz0Gj8h5oMqnYLW7HK8TQ__XwN-WKBs8rh01SLTVYGhmhmPGrx_Va5YxXYkyp_NX5s9aPoomKnoH4salYhOfulNtWuZROSckEj2MjgWtuxAC28ZwozTUx7749kNsTAN0DbiigFk3FIAyyP6SHdGHY-42tJtXe4dyRM-OoTMJgravE6ZtDYJBx4GcLr/file\n",
      "Reusing existing connection to ucce3d2fc56ffb8b8658d2ead54d.dl.dropboxusercontent.com:443.\n",
      "HTTP request sent, awaiting response... 200 OK\n",
      "Length: 89616062 (85M) [application/octet-stream]\n",
      "Saving to: ‘/content/torchMoji/model/pytorch_model.bin’\n",
      "\n",
      "/content/torchMoji/ 100%[===================>]  85.46M  28.9MB/s    in 3.0s    \n",
      "\n",
      "2020-04-02 12:00:40 (28.9 MB/s) - ‘/content/torchMoji/model/pytorch_model.bin’ saved [89616062/89616062]\n",
      "\n",
      "Downloaded weights to model/pytorch_model.bin\n",
      "Collecting emoji\n",
      "\u001b[?25l  Downloading https://files.pythonhosted.org/packages/40/8d/521be7f0091fe0f2ae690cc044faf43e3445e0ff33c574eae752dd7e39fa/emoji-0.5.4.tar.gz (43kB)\n",
      "\u001b[K     |████████████████████████████████| 51kB 3.4MB/s \n",
      "\u001b[?25hBuilding wheels for collected packages: emoji\n",
      "  Building wheel for emoji (setup.py) ... \u001b[?25l\u001b[?25hdone\n",
      "  Created wheel for emoji: filename=emoji-0.5.4-cp36-none-any.whl size=42176 sha256=41e6d3cbf29886aa27a1091407abc59dbb9e91807ddacfde70d02f620c49b986\n",
      "  Stored in directory: /root/.cache/pip/wheels/2a/a9/0a/4f8e8cce8074232aba240caca3fade315bb49fac68808d1a9c\n",
      "Successfully built emoji\n",
      "Installing collected packages: emoji\n",
      "Successfully installed emoji-0.5.4\n"
     ]
    }
   ],
   "source": [
    "## clone the repository\n",
    "! git clone https://github.com/huggingface/torchMoji.git\n",
    "## download the pretrained model's weights using their script\n",
    "import os\n",
    "cwd = os.getcwd()\n",
    "os.chdir('torchMoji')\n",
    "! python scripts/download_weights.py\n",
    "\n",
    "import os\n",
    "#os.chdir('torchMoji')\n",
    "# navigate to the torchmoji folder\n",
    "## install dependencies\n",
    "#! pip install -e \n",
    "! pip install emoji"
   ]
  },
  {
   "cell_type": "code",
   "execution_count": null,
   "metadata": {
    "colab": {},
    "colab_type": "code",
    "id": "SeoUZQbCQuNC"
   },
   "outputs": [],
   "source": [
    "# add to sys.path\n",
    "import sys\n",
    "base_path = '' # change if you have downloaded folder elsewhere.\n",
    "base_path = 'torchMoji/' ## path to the torchmoji directory\n",
    "sys.path.insert(0, base_path)"
   ]
  },
  {
   "cell_type": "code",
   "execution_count": null,
   "metadata": {
    "colab": {},
    "colab_type": "code",
    "id": "JGKnhasxQf0Z"
   },
   "outputs": [],
   "source": [
    "from torchmoji.sentence_tokenizer import SentenceTokenizer\n",
    "# load the deepmoji encoder that transforms text to emojies.\n",
    "from torchmoji.model_def import torchmoji_emojis\n",
    "from torchmoji.global_variables import PRETRAINED_PATH, VOCAB_PATH\n",
    "import json,csv, numpy as np\n",
    "import warnings; warnings.simplefilter('ignore')\n",
    "\n",
    "\n",
    "## set the max context length\n",
    "max_token = 30 ## This will not work for longer texts,\n",
    "################# here you should consider splitting each text into smaller segments.\n",
    "\n",
    "# Load vocab (i.e. the index of each word in the vector representation)\n",
    "with open(VOCAB_PATH, 'r') as f:\n",
    "    vocabulary = json.load(f)\n",
    "\n",
    "# initialize tokenizer\n",
    "sentence_tokenizer = SentenceTokenizer(vocabulary, max_token)\n",
    "# load model\n",
    "model = torchmoji_emojis(PRETRAINED_PATH)"
   ]
  },
  {
   "cell_type": "markdown",
   "metadata": {
    "colab_type": "text",
    "id": "73W2jK_CSrd4"
   },
   "source": [
    "### Load emoji translater to map output dimensions of the DeepMoji to unicode Emojies."
   ]
  },
  {
   "cell_type": "code",
   "execution_count": null,
   "metadata": {
    "colab": {
     "base_uri": "https://localhost:8080/",
     "height": 74
    },
    "colab_type": "code",
    "id": "9Xu0GP3NRKS9",
    "outputId": "44ff95a8-bcc1-4c60-ebdd-416a69b94808"
   },
   "outputs": [
    {
     "name": "stdout",
     "output_type": "stream",
     "text": [
      "[('0', ':joy:'), ('1', ':unamused:'), ('2', ':weary:'), ('3', ':sob:'), ('4', ':heart_eyes:'), ('5', ':pensive:'), ('6', ':ok_hand:'), ('7', ':blush:'), ('8', ':heart:'), ('9', ':smirk:')]\n"
     ]
    },
    {
     "data": {
      "text/plain": [
       "('😂', ':joy:')"
      ]
     },
     "execution_count": 7,
     "metadata": {
      "tags": []
     },
     "output_type": "execute_result"
    }
   ],
   "source": [
    "# Change working directory back to normal. \n",
    "os.chdir(cwd)\n",
    "with open(base_path+'data/emoji_codes.json') as f:\n",
    "    emoji_desc = json.load(f)\n",
    "print(list(emoji_desc.items())[0:10])\n",
    "import emoji\n",
    "def translate_emoji(emoji_descr):\n",
    "    if emoji_descr in emoji.unicode_codes.EMOJI_ALIAS_UNICODE:\n",
    "        return emoji.unicode_codes.EMOJI_ALIAS_UNICODE[emoji_descr]\n",
    "    if emoji_descr in emoji.unicode_codes.EMOJI_UNICODE:\n",
    "        return emoji.unicode_codes.EMOJI_UNICODE[emoji_descr]\n",
    "    return emoji_descr\n",
    "to_emoji = [translate_emoji(desc) for i,desc in sorted(emoji_desc.items(),key=lambda x: int(x[0]))]\n",
    "to_emoji_desc = [desc for i,desc in sorted(emoji_desc.items(),key=lambda x: int(x[0]))]\n",
    "## index \n",
    "to_emoji[0],to_emoji_desc[0]"
   ]
  },
  {
   "cell_type": "markdown",
   "metadata": {
    "colab_type": "text",
    "id": "qBdeuaNBS9z0"
   },
   "source": [
    "### Now we are ready to encode the text as emojis using the pretrained model.\n"
   ]
  },
  {
   "cell_type": "markdown",
   "metadata": {
    "colab_type": "text",
    "id": "NObH7Zn3TanJ"
   },
   "source": [
    "9.1.1: Investigate the bias of the [DeepMoji](https://deepmoji.mit.edu/) classifier from the paper [\"Using millions of emoji occurrences to learn any-domain representations for detecting sentiment, emotion and sarcasm\"](https://arxiv.org/pdf/1708.00524.pdf) using the Kiritchenko & Mohammed 2018 [dataset](https://saifmohammad.com/WebDocs/EEC/Equity-Evaluation-Corpus.zip)\n",
    "\n",
    "The dataset contains identical sentences changing only the name of the person being referenced. \n",
    "\n",
    "Dataset used is referenced under the `bias_df`.\n",
    "\n",
    "|    | ID                    | Sentence                | Template                               | Person   | Gender   | Race             | Emotion   | Emotion word   |\n",
    "|---:|:----------------------|:------------------------|:---------------------------------------|:---------|:---------|:-----------------|:----------|:---------------|\n",
    "|  0 | 2018-En-mystery-05498 | Alonzo feels angry.     | <person subject> feels <emotion word>. | Alonzo   | male     | African-American | anger     | angry          |\n",
    "|  1 | 2018-En-mystery-11722 | Alonzo feels furious.   | <person subject> feels <emotion word>. | Alonzo   | male     | African-American | anger     | furious        |\n",
    "|  2 | 2018-En-mystery-11364 | Alonzo feels irritated. | <person subject> feels <emotion word>. | Alonzo   | male     | African-American | anger     | irritated      |\n",
    "\n",
    "\n",
    "The deepmoji model is referenced under as `model`.\n",
    "\n",
    "And the tokenizer is referenced as `sentence_tokenizer`.\n",
    "\n",
    "You should now do the following:\n",
    "\n",
    "1. Tokenization. Tokenize the documetns in the `bias_dataset`.\n",
    "  - Use the `sentence_tokenizer` defined above to tokenize the documents.\n",
    "\n",
    "  - see example in the torchmoji examples [e.g.](https://github.com/huggingface/torchMoji/blob/master/examples/encode_texts.py) folder for help.\n",
    "\n",
    "  - Inspect the tokenized documents to see the format.\n",
    "  - Try to convert them back using <code>vocabulary</code> variable defined earlier. **- Hint this means reversing the vocabulary dictionary.**\n",
    "2. DeepMoji encoding\n",
    "  - Encode the tokenized sentences and wrap it in a function.\n",
    "  - Hint: Do a forward pass of the model on the tokenized data. Check [here](https://github.com/huggingface/torchMoji/blob/master/examples/encode_texts.py) for help \n",
    "\n",
    "  - For larger datasets and with longer sentences encoding is problematic if not done in batches. \n",
    "  - Write a for loop that takes only 256 tokenized documents at a time and concatenate them to a dataframe in the end.\n",
    "  - Use the <code>to_emoji list </code> as columns in the dataframe\n",
    "3. Join DeepMoji Encoding with the `bias_df`.\n",
    "  -  Join the output of Deepmoji with the bias dataframe columns (Race, Gender and Emotion)\n",
    "  - Make sure Race count and Gender counts are equal after join.\n",
    "  - Investigate if there are significant differences in relation to **Race** (Race column).\n",
    "  - See which types of emojies are most changed by a change in race or gender.\n",
    "  - See which *Emotions* (Emotion column) have largest difference in encoding in relation to different races. \n",
    "    - I.e. Groupby Emotion and Race and calculate absolute difference in emoji encoding. \n",
    "    - hint: first groupby emotion and race, calculate mean, then diff, then abs and then sum.\n"
   ]
  },
  {
   "cell_type": "code",
   "execution_count": null,
   "metadata": {
    "colab": {
     "base_uri": "https://localhost:8080/",
     "height": 128
    },
    "colab_type": "code",
    "id": "Nymvt6WNTZPJ",
    "outputId": "ef1b5b25-322c-4e4b-aac6-5fad0f99c666"
   },
   "outputs": [
    {
     "name": "stdout",
     "output_type": "stream",
     "text": [
      "CPU times: user 1.17 s, sys: 7.58 ms, total: 1.18 s\n",
      "Wall time: 1.19 s\n"
     ]
    },
    {
     "data": {
      "text/plain": [
       "array([33306,  1459,  1740,    11,     0,     0,     0,     0,     0,\n",
       "           0,     0,     0,     0,     0,     0,     0,     0,     0,\n",
       "           0,     0,     0,     0,     0,     0,     0,     0,     0,\n",
       "           0,     0,     0], dtype=uint16)"
      ]
     },
     "execution_count": 8,
     "metadata": {
      "tags": []
     },
     "output_type": "execute_result"
    }
   ],
   "source": [
    "## Solution 9.1.1 Tokenization\n",
    "docs = bias_df.Sentence.values\n",
    "%time tokenized, _, stats = sentence_tokenizer.tokenize_sentences(docs)\n",
    "tokenized[0]"
   ]
  },
  {
   "cell_type": "code",
   "execution_count": null,
   "metadata": {
    "colab": {
     "base_uri": "https://localhost:8080/",
     "height": 294
    },
    "colab_type": "code",
    "id": "Yaa1doOkO4Ap",
    "outputId": "2e70a0d8-7806-4dba-b17b-981db8a83f7a"
   },
   "outputs": [
    {
     "data": {
      "text/plain": [
       "['alonzo',\n",
       " 'feels',\n",
       " 'angry',\n",
       " '.',\n",
       " 'CUSTOM_MASK',\n",
       " 'CUSTOM_MASK',\n",
       " 'CUSTOM_MASK',\n",
       " 'CUSTOM_MASK',\n",
       " 'CUSTOM_MASK',\n",
       " 'CUSTOM_MASK',\n",
       " 'CUSTOM_MASK',\n",
       " 'CUSTOM_MASK',\n",
       " 'CUSTOM_MASK',\n",
       " 'CUSTOM_MASK',\n",
       " 'CUSTOM_MASK']"
      ]
     },
     "execution_count": 27,
     "metadata": {
      "tags": []
     },
     "output_type": "execute_result"
    }
   ],
   "source": [
    "## reverse indexing\n",
    "vocab = sorted(vocabulary,key=lambda x: vocabulary[x])\n",
    "[vocab[i] for i in tokenized[0]][0:15]\n",
    "\n"
   ]
  },
  {
   "cell_type": "code",
   "execution_count": 183,
   "metadata": {},
   "outputs": [
    {
     "name": "stderr",
     "output_type": "stream",
     "text": [
      "100%|██████████| 256/256 [00:17<00:00, 14.83it/s]\n"
     ]
    }
   ],
   "source": [
    "n_batch = 256\n",
    "bs = len(tokenized)//n_batch\n",
    "enc = []\n",
    "import tqdm\n",
    "import pandas as pd\n",
    "def emoji_encode(tokenized,to_df=False):\n",
    "    #tokenized, _, _ = sentence_tokenizer.tokenize_sentences(texts)\n",
    "    probs = model(tokenized)\n",
    "    if to_df:\n",
    "        return pd.DataFrame(probs,columns=to_emoji_desc)\n",
    "    return probs\n",
    "\n",
    "for i in tqdm.tqdm(list(range(n_batch))):\n",
    "    batch = tokenized[i*bs:(i+1)*bs]\n",
    "    emoji_encoded = emoji_encode(batch,to_df=True)\n",
    "    enc.append(emoji_encoded)\n",
    "batch = tokenized[(i+1)*bs:]\n",
    "emoji_encoded = emoji_encode(batch,to_df=True)\n",
    "enc.append(emoji_encoded)"
   ]
  },
  {
   "cell_type": "code",
   "execution_count": 192,
   "metadata": {},
   "outputs": [],
   "source": [
    "emoji_df = pd.concat(enc)\n",
    "emoji_df.columns = to_emoji"
   ]
  },
  {
   "cell_type": "code",
   "execution_count": null,
   "metadata": {
    "colab": {},
    "colab_type": "code",
    "id": "yGfWvyjofm_R"
   },
   "outputs": [],
   "source": [
    "# Solution 9.1.1 Analyzing how Gender and Race alone changes the DeepMoji encoding\n",
    "# Add columns\n",
    "for col in ['Race','Gender','Emotion']: \n",
    "    emoji_df[col] = bias_df[col].values\n",
    "# Compute emoji mean for each Race\n",
    "race2emoji = emoji_df.groupby('Race').mean()\n",
    "\n",
    "race2emoji = race2emoji[sorted(emo2sent,key=lambda x: emo2sent[x])]\n",
    "sort_diff = abs(race2emoji.diff(-1)).T.sort_values('African-American',ascending=False).index\n",
    "race2emoji = race2emoji[sort_diff]\n",
    "# Emojies with highest difference in relation to Race\n",
    "race2emoji.T.head(5)\n",
    "# Emotion with higest difference in relation to Race.\n",
    "emoji_df.groupby(['Emotion','Race']).mean().groupby('Emotion').diff().apply(abs).sum(axis=1)"
   ]
  },
  {
   "cell_type": "code",
   "execution_count": 16,
   "metadata": {},
   "outputs": [
    {
     "data": {
      "text/plain": [
       "European            2880\n",
       "African-American    2880\n",
       "Name: Race, dtype: int64"
      ]
     },
     "execution_count": 16,
     "metadata": {},
     "output_type": "execute_result"
    }
   ],
   "source": [
    "# Join the output of Deepmoji with the bias dataframe columns (Race, Gender and Emotion)\n",
    "for col in ['Race','Gender','Emotion']:\n",
    "    emoji_df[col] = bias_df[col].values\n",
    "# Make sure Race count and Gender counts are equal after join.\n",
    "emoji_df.Race.value_counts()"
   ]
  },
  {
   "cell_type": "code",
   "execution_count": null,
   "metadata": {},
   "outputs": [],
   "source": [
    "# Investigate if there are significant differences in relation to Race (Race column).\n",
    "#    See which types of emojies are most changed by a change in race or gender.\n",
    "race2emoji = emoji_df.groupby('Race').mean()\n",
    "geneder2emoji = emoji_df.groupby('Gender').mean()\n",
    "def get_sorted_diff(df,absolute_diff=True):\n",
    "    diff = df.diff(-1).dropna()\n",
    "    if absolute_diff:\n",
    "        diff = abs(diff)    \n",
    "    sort_diff = diff.T.sort_values(diff.T.columns[0],ascending=False).index\n",
    "    return df[sort_diff]\n",
    "\n"
   ]
  },
  {
   "cell_type": "code",
   "execution_count": 50,
   "metadata": {},
   "outputs": [
    {
     "data": {
      "text/html": [
       "<div>\n",
       "<style scoped>\n",
       "    .dataframe tbody tr th:only-of-type {\n",
       "        vertical-align: middle;\n",
       "    }\n",
       "\n",
       "    .dataframe tbody tr th {\n",
       "        vertical-align: top;\n",
       "    }\n",
       "\n",
       "    .dataframe thead th {\n",
       "        text-align: right;\n",
       "    }\n",
       "</style>\n",
       "<table border=\"1\" class=\"dataframe\">\n",
       "  <thead>\n",
       "    <tr style=\"text-align: right;\">\n",
       "      <th>Race</th>\n",
       "      <th>African-American</th>\n",
       "      <th>European</th>\n",
       "    </tr>\n",
       "  </thead>\n",
       "  <tbody>\n",
       "    <tr>\n",
       "      <td>💀</td>\n",
       "      <td>0.033696</td>\n",
       "      <td>0.025895</td>\n",
       "    </tr>\n",
       "    <tr>\n",
       "      <td>😕</td>\n",
       "      <td>0.031760</td>\n",
       "      <td>0.027590</td>\n",
       "    </tr>\n",
       "    <tr>\n",
       "      <td>💯</td>\n",
       "      <td>0.007194</td>\n",
       "      <td>0.003867</td>\n",
       "    </tr>\n",
       "    <tr>\n",
       "      <td>😩</td>\n",
       "      <td>0.015215</td>\n",
       "      <td>0.012098</td>\n",
       "    </tr>\n",
       "    <tr>\n",
       "      <td>😤</td>\n",
       "      <td>0.016986</td>\n",
       "      <td>0.013905</td>\n",
       "    </tr>\n",
       "  </tbody>\n",
       "</table>\n",
       "</div>"
      ],
      "text/plain": [
       "Race  African-American  European\n",
       "💀             0.033696  0.025895\n",
       "😕             0.031760  0.027590\n",
       "💯             0.007194  0.003867\n",
       "😩             0.015215  0.012098\n",
       "😤             0.016986  0.013905"
      ]
     },
     "execution_count": 50,
     "metadata": {},
     "output_type": "execute_result"
    }
   ],
   "source": [
    "get_sorted_diff(race2emoji,absolute_diff=False).T.head()"
   ]
  },
  {
   "cell_type": "code",
   "execution_count": 52,
   "metadata": {},
   "outputs": [
    {
     "data": {
      "text/html": [
       "<div>\n",
       "<style scoped>\n",
       "    .dataframe tbody tr th:only-of-type {\n",
       "        vertical-align: middle;\n",
       "    }\n",
       "\n",
       "    .dataframe tbody tr th {\n",
       "        vertical-align: top;\n",
       "    }\n",
       "\n",
       "    .dataframe thead th {\n",
       "        text-align: right;\n",
       "    }\n",
       "</style>\n",
       "<table border=\"1\" class=\"dataframe\">\n",
       "  <thead>\n",
       "    <tr style=\"text-align: right;\">\n",
       "      <th>Race</th>\n",
       "      <th>African-American</th>\n",
       "      <th>European</th>\n",
       "    </tr>\n",
       "  </thead>\n",
       "  <tbody>\n",
       "    <tr>\n",
       "      <td>🙈</td>\n",
       "      <td>0.013948</td>\n",
       "      <td>0.016176</td>\n",
       "    </tr>\n",
       "    <tr>\n",
       "      <td>😂</td>\n",
       "      <td>0.032415</td>\n",
       "      <td>0.034823</td>\n",
       "    </tr>\n",
       "    <tr>\n",
       "      <td>😅</td>\n",
       "      <td>0.021984</td>\n",
       "      <td>0.024440</td>\n",
       "    </tr>\n",
       "    <tr>\n",
       "      <td>💔</td>\n",
       "      <td>0.038261</td>\n",
       "      <td>0.043322</td>\n",
       "    </tr>\n",
       "    <tr>\n",
       "      <td>😳</td>\n",
       "      <td>0.039918</td>\n",
       "      <td>0.045626</td>\n",
       "    </tr>\n",
       "  </tbody>\n",
       "</table>\n",
       "</div>"
      ],
      "text/plain": [
       "Race  African-American  European\n",
       "🙈             0.013948  0.016176\n",
       "😂             0.032415  0.034823\n",
       "😅             0.021984  0.024440\n",
       "💔             0.038261  0.043322\n",
       "😳             0.039918  0.045626"
      ]
     },
     "execution_count": 52,
     "metadata": {},
     "output_type": "execute_result"
    }
   ],
   "source": [
    "get_sorted_diff(race2emoji,absolute_diff=False).T.tail()"
   ]
  },
  {
   "cell_type": "code",
   "execution_count": 46,
   "metadata": {},
   "outputs": [
    {
     "data": {
      "text/html": [
       "<div>\n",
       "<style scoped>\n",
       "    .dataframe tbody tr th:only-of-type {\n",
       "        vertical-align: middle;\n",
       "    }\n",
       "\n",
       "    .dataframe tbody tr th {\n",
       "        vertical-align: top;\n",
       "    }\n",
       "\n",
       "    .dataframe thead th {\n",
       "        text-align: right;\n",
       "    }\n",
       "</style>\n",
       "<table border=\"1\" class=\"dataframe\">\n",
       "  <thead>\n",
       "    <tr style=\"text-align: right;\">\n",
       "      <th>Gender</th>\n",
       "      <th>female</th>\n",
       "      <th>male</th>\n",
       "    </tr>\n",
       "  </thead>\n",
       "  <tbody>\n",
       "    <tr>\n",
       "      <td>😳</td>\n",
       "      <td>0.045877</td>\n",
       "      <td>0.040518</td>\n",
       "    </tr>\n",
       "    <tr>\n",
       "      <td>💁</td>\n",
       "      <td>0.010419</td>\n",
       "      <td>0.007244</td>\n",
       "    </tr>\n",
       "    <tr>\n",
       "      <td>🙅</td>\n",
       "      <td>0.009200</td>\n",
       "      <td>0.007507</td>\n",
       "    </tr>\n",
       "    <tr>\n",
       "      <td>👏</td>\n",
       "      <td>0.016385</td>\n",
       "      <td>0.015279</td>\n",
       "    </tr>\n",
       "    <tr>\n",
       "      <td>😁</td>\n",
       "      <td>0.017602</td>\n",
       "      <td>0.016592</td>\n",
       "    </tr>\n",
       "  </tbody>\n",
       "</table>\n",
       "</div>"
      ],
      "text/plain": [
       "Gender    female      male\n",
       "😳       0.045877  0.040518\n",
       "💁       0.010419  0.007244\n",
       "🙅       0.009200  0.007507\n",
       "👏       0.016385  0.015279\n",
       "😁       0.017602  0.016592"
      ]
     },
     "execution_count": 46,
     "metadata": {},
     "output_type": "execute_result"
    }
   ],
   "source": [
    "get_sorted_diff(gender2emoji,absolute_diff=False).T.head()"
   ]
  },
  {
   "cell_type": "code",
   "execution_count": 47,
   "metadata": {},
   "outputs": [
    {
     "data": {
      "text/html": [
       "<div>\n",
       "<style scoped>\n",
       "    .dataframe tbody tr th:only-of-type {\n",
       "        vertical-align: middle;\n",
       "    }\n",
       "\n",
       "    .dataframe tbody tr th {\n",
       "        vertical-align: top;\n",
       "    }\n",
       "\n",
       "    .dataframe thead th {\n",
       "        text-align: right;\n",
       "    }\n",
       "</style>\n",
       "<table border=\"1\" class=\"dataframe\">\n",
       "  <thead>\n",
       "    <tr style=\"text-align: right;\">\n",
       "      <th>Gender</th>\n",
       "      <th>female</th>\n",
       "      <th>male</th>\n",
       "    </tr>\n",
       "  </thead>\n",
       "  <tbody>\n",
       "    <tr>\n",
       "      <td>😢</td>\n",
       "      <td>0.029893</td>\n",
       "      <td>0.032295</td>\n",
       "    </tr>\n",
       "    <tr>\n",
       "      <td>😪</td>\n",
       "      <td>0.023895</td>\n",
       "      <td>0.026322</td>\n",
       "    </tr>\n",
       "    <tr>\n",
       "      <td>😓</td>\n",
       "      <td>0.025578</td>\n",
       "      <td>0.028041</td>\n",
       "    </tr>\n",
       "    <tr>\n",
       "      <td>😔</td>\n",
       "      <td>0.037701</td>\n",
       "      <td>0.040315</td>\n",
       "    </tr>\n",
       "    <tr>\n",
       "      <td>😞</td>\n",
       "      <td>0.033767</td>\n",
       "      <td>0.036434</td>\n",
       "    </tr>\n",
       "  </tbody>\n",
       "</table>\n",
       "</div>"
      ],
      "text/plain": [
       "Gender    female      male\n",
       "😢       0.029893  0.032295\n",
       "😪       0.023895  0.026322\n",
       "😓       0.025578  0.028041\n",
       "😔       0.037701  0.040315\n",
       "😞       0.033767  0.036434"
      ]
     },
     "execution_count": 47,
     "metadata": {},
     "output_type": "execute_result"
    }
   ],
   "source": [
    "get_sorted_diff(gender2emoji,absolute_diff=False).T.tail()"
   ]
  },
  {
   "cell_type": "code",
   "execution_count": null,
   "metadata": {},
   "outputs": [],
   "source": []
  },
  {
   "cell_type": "code",
   "execution_count": 110,
   "metadata": {},
   "outputs": [],
   "source": [
    "#   See which Emotions (Emotion column) have largest difference in encoding in relation to different races.\n",
    "def get_diff_emotion(df,col):\n",
    "    diff = df.groupby(['Emotion',col]).mean().diff().dropna()\n",
    "    diff_vals = abs(diff.values[::2,:]).sum(axis=1)\n",
    "    idx = [i for i, j in diff.index[::2]]\n",
    "    return pd.DataFrame(diff_vals,index=idx,columns=['abs_diff']).sort_values('abs_diff')#,columns=emoji_df.columns[:-3],index=idx)"
   ]
  },
  {
   "cell_type": "code",
   "execution_count": 125,
   "metadata": {},
   "outputs": [
    {
     "data": {
      "text/html": [
       "<div>\n",
       "<style scoped>\n",
       "    .dataframe tbody tr th:only-of-type {\n",
       "        vertical-align: middle;\n",
       "    }\n",
       "\n",
       "    .dataframe tbody tr th {\n",
       "        vertical-align: top;\n",
       "    }\n",
       "\n",
       "    .dataframe thead th {\n",
       "        text-align: right;\n",
       "    }\n",
       "</style>\n",
       "<table border=\"1\" class=\"dataframe\">\n",
       "  <thead>\n",
       "    <tr style=\"text-align: right;\">\n",
       "      <th></th>\n",
       "      <th>abs_diff</th>\n",
       "    </tr>\n",
       "  </thead>\n",
       "  <tbody>\n",
       "    <tr>\n",
       "      <td>sadness</td>\n",
       "      <td>0.086262</td>\n",
       "    </tr>\n",
       "    <tr>\n",
       "      <td>joy</td>\n",
       "      <td>0.092333</td>\n",
       "    </tr>\n",
       "    <tr>\n",
       "      <td>anger</td>\n",
       "      <td>0.096118</td>\n",
       "    </tr>\n",
       "    <tr>\n",
       "      <td>fear</td>\n",
       "      <td>0.105285</td>\n",
       "    </tr>\n",
       "  </tbody>\n",
       "</table>\n",
       "</div>"
      ],
      "text/plain": [
       "         abs_diff\n",
       "sadness  0.086262\n",
       "joy      0.092333\n",
       "anger    0.096118\n",
       "fear     0.105285"
      ]
     },
     "execution_count": 125,
     "metadata": {},
     "output_type": "execute_result"
    }
   ],
   "source": [
    "get_diff_emotion(emoji_df,col='Race')\n",
    "# Fear is the emotion where the model is most influenced by Race"
   ]
  },
  {
   "cell_type": "code",
   "execution_count": 126,
   "metadata": {},
   "outputs": [
    {
     "data": {
      "text/html": [
       "<div>\n",
       "<style scoped>\n",
       "    .dataframe tbody tr th:only-of-type {\n",
       "        vertical-align: middle;\n",
       "    }\n",
       "\n",
       "    .dataframe tbody tr th {\n",
       "        vertical-align: top;\n",
       "    }\n",
       "\n",
       "    .dataframe thead th {\n",
       "        text-align: right;\n",
       "    }\n",
       "</style>\n",
       "<table border=\"1\" class=\"dataframe\">\n",
       "  <thead>\n",
       "    <tr style=\"text-align: right;\">\n",
       "      <th></th>\n",
       "      <th>abs_diff</th>\n",
       "    </tr>\n",
       "  </thead>\n",
       "  <tbody>\n",
       "    <tr>\n",
       "      <td>anger</td>\n",
       "      <td>0.046928</td>\n",
       "    </tr>\n",
       "    <tr>\n",
       "      <td>sadness</td>\n",
       "      <td>0.048079</td>\n",
       "    </tr>\n",
       "    <tr>\n",
       "      <td>joy</td>\n",
       "      <td>0.063092</td>\n",
       "    </tr>\n",
       "    <tr>\n",
       "      <td>fear</td>\n",
       "      <td>0.067824</td>\n",
       "    </tr>\n",
       "  </tbody>\n",
       "</table>\n",
       "</div>"
      ],
      "text/plain": [
       "         abs_diff\n",
       "anger    0.046928\n",
       "sadness  0.048079\n",
       "joy      0.063092\n",
       "fear     0.067824"
      ]
     },
     "execution_count": 126,
     "metadata": {},
     "output_type": "execute_result"
    }
   ],
   "source": [
    "get_diff_emotion(emoji_df,col='Gender')\n",
    "# Gender influence the model mostly on the Fear and Joy dimensions."
   ]
  },
  {
   "cell_type": "code",
   "execution_count": 129,
   "metadata": {},
   "outputs": [
    {
     "data": {
      "text/plain": [
       "(0.22592285, 0.3799974)"
      ]
     },
     "execution_count": 129,
     "metadata": {},
     "output_type": "execute_result"
    }
   ],
   "source": [
    "# Absolute change \n",
    "get_diff_emotion(emoji_df,col='Gender').sum().values[0],get_diff_emotion(emoji_df,col='Race').sum().values[0]\n",
    "# Race bias the model more than Gender."
   ]
  },
  {
   "cell_type": "markdown",
   "metadata": {
    "colab_type": "text",
    "id": "c6IPZ5CpTh91"
   },
   "source": [
    "## Exercise 9.4.1: Create your own test case by substituting minority identifiers in the toxicity dataset.\n",
    "\n",
    "The key to the bias test was substituting using the same sentences but with different subjects in the sentence, (Alonzo, Alan, He, she) etc. We can construct a similar dataset by *Augmenting* the toxicity dataset (referenced as `df`).\n",
    "- First we create our minority identifiers that we want to substitute / remove. Could have been done iteratively using Exploration methods like (word similarity search or active learning style keyword discovery from most predictive features). \n",
    "  - Instead we will pick most predictive phrases from each minority category in the data. \n",
    "    1. Because we will use it for our data augmentation scheme we want slightly more information than just words. We therefore tokenize and process documents using the standfordnlp package. ```! pip install stanza\n",
    "import stanza\n",
    "stanza.download('en') # download English model\n",
    "nlp = stanza.Pipeline('en') # initialize English neural pipeline```\n",
    "    2. Aply the nlp pipeline to all documents.\n",
    "    3. Extract word and wordtype pairs from all documents. i.e. a document will look like this: `[(w, wtyp), (w1,wtyp) ... (wi,wtyp)]`. Remember to lowercase.\n",
    "    4. Use the `bow_to_sparse` helper function to create an index using the most prevalent word,wordtype pairs and transform the documents to bows. The function returns `sparse_matrix,index`, which denotes a matrix of word_pair counts, and the corresponding index of each wordpair. \n",
    "    5. Train a classifier (logistic regression) for each minority column.\n",
    "    6. Extract most predictive features (i.e. `.coef_`). \n",
    "    7. Go through the phrases and pick the most useful (at least 10).\n",
    "  - Do the above for at least 3 different minorities.  \n",
    "\n",
    "- Now we want to Remove the minority identifiers and see how our model does.\n",
    "  - Write a function that takes a list of identifiers and replaces them with a pattern. \n",
    "    - `def change_identifier(identifiers,replace_pattern=''):` \n",
    "  - Apply the function `change_identifier` function to the texts to create your *\"augmented\"* dataset.\n",
    "  - Train two models:\n",
    "    - One on all the texts. \n",
    "    - One with on the *augmented* the texts where all minority identifiers are \n",
    "  - Report the differences in predictions. \n",
    "\n"
   ]
  },
  {
   "cell_type": "code",
   "execution_count": null,
   "metadata": {
    "colab": {
     "base_uri": "https://localhost:8080/",
     "height": 739
    },
    "colab_type": "code",
    "id": "8TnBRb8Qnfp0",
    "outputId": "f21997cc-a5e5-4f97-9838-7f1114061925"
   },
   "outputs": [
    {
     "name": "stdout",
     "output_type": "stream",
     "text": [
      "Collecting stanza\n",
      "\u001b[?25l  Downloading https://files.pythonhosted.org/packages/11/98/a118044151c5f84709d6db43e0344205b42bca316ca89a2fa838987ab698/stanza-1.0.0-py3-none-any.whl (189kB)\n",
      "\u001b[K     |████████████████████████████████| 194kB 7.2MB/s eta 0:00:01\n",
      "\u001b[?25hRequirement already satisfied: tqdm in /usr/local/lib/python3.6/dist-packages (from stanza) (4.38.0)\n",
      "Requirement already satisfied: requests in /usr/local/lib/python3.6/dist-packages (from stanza) (2.21.0)\n",
      "Requirement already satisfied: protobuf in /usr/local/lib/python3.6/dist-packages (from stanza) (3.10.0)\n",
      "Requirement already satisfied: numpy in /usr/local/lib/python3.6/dist-packages (from stanza) (1.18.2)\n",
      "Requirement already satisfied: torch>=1.2.0 in /usr/local/lib/python3.6/dist-packages (from stanza) (1.4.0)\n",
      "Requirement already satisfied: chardet<3.1.0,>=3.0.2 in /usr/local/lib/python3.6/dist-packages (from requests->stanza) (3.0.4)\n",
      "Requirement already satisfied: idna<2.9,>=2.5 in /usr/local/lib/python3.6/dist-packages (from requests->stanza) (2.8)\n",
      "Requirement already satisfied: urllib3<1.25,>=1.21.1 in /usr/local/lib/python3.6/dist-packages (from requests->stanza) (1.24.3)\n",
      "Requirement already satisfied: certifi>=2017.4.17 in /usr/local/lib/python3.6/dist-packages (from requests->stanza) (2019.11.28)\n",
      "Requirement already satisfied: setuptools in /usr/local/lib/python3.6/dist-packages (from protobuf->stanza) (46.0.0)\n",
      "Requirement already satisfied: six>=1.9 in /usr/local/lib/python3.6/dist-packages (from protobuf->stanza) (1.12.0)\n",
      "Installing collected packages: stanza\n",
      "Successfully installed stanza-1.0.0\n"
     ]
    },
    {
     "name": "stderr",
     "output_type": "stream",
     "text": [
      "Downloading https://raw.githubusercontent.com/stanfordnlp/stanza-resources/master/resources_1.0.0.json: 116kB [00:00, 21.8MB/s]                    \n",
      "2020-04-02 12:01:47 INFO: Downloading default packages for language: en (English)...\n",
      "Downloading http://nlp.stanford.edu/software/stanza/1.0.0/en/default.zip: 100%|██████████| 402M/402M [04:11<00:00, 1.60MB/s]\n",
      "2020-04-02 12:06:06 INFO: Finished downloading models and saved to /root/stanza_resources.\n",
      "2020-04-02 12:06:06 INFO: Loading these models for language: en (English):\n",
      "=========================\n",
      "| Processor | Package   |\n",
      "-------------------------\n",
      "| tokenize  | ewt       |\n",
      "| pos       | ewt       |\n",
      "| lemma     | ewt       |\n",
      "| depparse  | ewt       |\n",
      "| ner       | ontonotes |\n",
      "=========================\n",
      "\n",
      "2020-04-02 12:06:06 INFO: Use device: gpu\n",
      "2020-04-02 12:06:06 INFO: Loading: tokenize\n",
      "2020-04-02 12:06:15 INFO: Loading: pos\n",
      "2020-04-02 12:06:16 INFO: Loading: lemma\n",
      "2020-04-02 12:06:16 INFO: Loading: depparse\n",
      "2020-04-02 12:06:17 INFO: Loading: ner\n",
      "2020-04-02 12:06:17 INFO: Done loading processors!\n"
     ]
    }
   ],
   "source": [
    "\n",
    "! pip install stanza\n",
    "import stanza\n",
    "stanza.download('en') # download English model\n",
    "nlp = stanza.Pipeline('en') # initialize English neural pipeline"
   ]
  },
  {
   "cell_type": "code",
   "execution_count": null,
   "metadata": {
    "colab": {
     "base_uri": "https://localhost:8080/",
     "height": 35
    },
    "colab_type": "code",
    "id": "w8hE5sKypBUu",
    "outputId": "5acc3a2c-73ea-421f-8635-e9d0d2e8393e"
   },
   "outputs": [
    {
     "name": "stderr",
     "output_type": "stream",
     "text": [
      "100%|██████████| 5707/5707 [17:15<00:00,  5.51it/s]\n"
     ]
    }
   ],
   "source": [
    "nlp_docs = []\n",
    "import tqdm\n",
    "for doc in tqdm.tqdm(df.comment_text):\n",
    "  nlp_docs.append(nlp(doc))"
   ]
  },
  {
   "cell_type": "code",
   "execution_count": null,
   "metadata": {
    "colab": {},
    "colab_type": "code",
    "id": "PR9Th0FspG_0"
   },
   "outputs": [],
   "source": [
    "def extract_word_pairs(doc):\n",
    "  wordpairs = []\n",
    "  for sent in doc.sentences:\n",
    "      for word in sent.words:\n",
    "          d = word.to_dict()\n",
    "          wordpairs.append((d['text'].lower(),d['upos']))\n",
    "  return wordpairs\n",
    "wordpairs = []\n",
    "for doc in nlp_docs:\n",
    "  wordpairs.append(extract_word_pairs(doc))"
   ]
  },
  {
   "cell_type": "code",
   "execution_count": null,
   "metadata": {
    "colab": {},
    "colab_type": "code",
    "id": "i6am2JnhqpHt"
   },
   "outputs": [],
   "source": [
    "import scipy.sparse as sp\n",
    "from collections import Counter\n",
    "def bow_to_sparse(docs,max_vocab_size=32768):\n",
    "    c = Counter()\n",
    "    bows = []\n",
    "    for doc in docs:\n",
    "      bow = Counter(doc)\n",
    "      bows.append(bow)\n",
    "      c.update(bow)\n",
    "    w2i = {w:num for num,(w,count) in enumerate(c.most_common()[0:max_vocab_size])}\n",
    "\n",
    "    idx = sorted(w2i,key=lambda x: w2i[x])\n",
    "    vocab_size = len(idx)\n",
    "    X = sp.dok_matrix((len(docs),vocab_size), dtype=np.int32)\n",
    "    for num in range(len(docs)):\n",
    "        bow = bows[num]\n",
    "        for w,count in bow.items():\n",
    "            try:\n",
    "              wi = w2i[w]\n",
    "            except:\n",
    "              continue\n",
    "            X[num,wi]=count\n",
    "    print(X.shape)\n",
    "    X = X.tocsr()\n",
    "    print(X.shape)\n",
    "    return X,idx\n"
   ]
  },
  {
   "cell_type": "code",
   "execution_count": null,
   "metadata": {
    "colab": {
     "base_uri": "https://localhost:8080/",
     "height": 54
    },
    "colab_type": "code",
    "id": "U1890WhMzOtt",
    "outputId": "0135d18c-a9c7-4c0d-b1df-8ae5a599393a"
   },
   "outputs": [
    {
     "name": "stdout",
     "output_type": "stream",
     "text": [
      "(5707, 26764)\n",
      "(5707, 26764)\n"
     ]
    }
   ],
   "source": [
    "X,idx = bow_to_sparse(wordpairs)"
   ]
  },
  {
   "cell_type": "code",
   "execution_count": null,
   "metadata": {
    "colab": {},
    "colab_type": "code",
    "id": "6IgxTgzS4J4w"
   },
   "outputs": [],
   "source": [
    "# Prepare for cross validation, augmentation should only be of the training data.\n",
    "df['idx'] = np.arange(len(df))\n",
    "train_idx = df.loc[train_df.index].idx.values\n",
    "test_idx = df.loc[test_df.index].idx.values\n",
    "y_train = df.label.values[train_idx]\n",
    "y_test = df.label.values[test_idx]\n",
    "X_train,X_test = X[train_idx],X[test_idx]"
   ]
  },
  {
   "cell_type": "code",
   "execution_count": null,
   "metadata": {
    "colab": {},
    "colab_type": "code",
    "id": "-lAicfle5CaZ"
   },
   "outputs": [],
   "source": [
    "min2set = {}"
   ]
  },
  {
   "cell_type": "code",
   "execution_count": 23,
   "metadata": {
    "colab": {
     "base_uri": "https://localhost:8080/",
     "height": 1000
    },
    "colab_type": "code",
    "id": "skuW0NlRkluh",
    "outputId": "a6ad7a87-6e3d-4c6f-cebf-a25bd37d97a4"
   },
   "outputs": [
    {
     "name": "stdout",
     "output_type": "stream",
     "text": [
      "\n",
      "______________\n",
      "asian\n",
      "\n",
      "'asian'-'ADJ' press y or enter. b to breaky\n",
      "'asians'-'PROPN' press y or enter. b to breaky\n",
      "'chinese'-'ADJ' press y or enter. b to breaky\n",
      "'asia'-'PROPN' press y or enter. b to breaky\n",
      "'japanese'-'ADJ' press y or enter. b to breaky\n",
      "'buy'-'VERB' press y or enter. b to break\n",
      "'asians'-'NOUN' press y or enter. b to breaky\n",
      "'asian'-'PROPN' press y or enter. b to breaky\n",
      "'trust'-'VERB' press y or enter. b to break\n",
      "'anti-asian'-'ADJ' press y or enter. b to break\n",
      "'put'-'VERB' press y or enter. b to break\n",
      "'racism'-'NOUN' press y or enter. b to break\n",
      "'knows'-'VERB' press y or enter. b to break\n",
      "'hawaii'-'PROPN' press y or enter. b to break\n",
      "'discriminating'-'VERB' press y or enter. b to break\n",
      "'got'-'VERB' press y or enter. b to break\n",
      "'know'-'VERB' press y or enter. b to break\n",
      "'stepping'-'VERB' press y or enter. b to break\n",
      "'china'-'PROPN' press y or enter. b to breaky\n",
      "'upon'-'ADP' press y or enter. b to break\n",
      "'slope'-'NOUN' press y or enter. b to break\n",
      "'slippery'-'ADJ' press y or enter. b to break\n",
      "'take'-'VERB' press y or enter. b to break\n",
      "'indeed'-'ADV' press y or enter. b to break\n",
      "'too'-'ADV' press y or enter. b to break\n",
      "'dinner'-'NOUN' press y or enter. b to break\n",
      "'ok'-'ADJ' press y or enter. b to break\n",
      "'start'-'NOUN' press y or enter. b to breakb\n",
      "\n",
      "______________\n",
      "black\n",
      "\n",
      "'black'-'ADJ' press y or enter. b to breaky\n",
      "'blacks'-'NOUN' press y or enter. b to breaky\n",
      "'blacks'-'PROPN' press y or enter. b to breaky\n",
      "'black'-'PROPN' press y or enter. b to breaky\n",
      "'whites'-'NOUN' press y or enter. b to break\n",
      "'hispanics'-'PROPN' press y or enter. b to break\n",
      "'racist'-'ADJ' press y or enter. b to break\n",
      "'n!ggers'-'NOUN' press y or enter. b to breaky\n",
      "'stink'-'NOUN' press y or enter. b to break\n",
      "'racial'-'ADJ' press y or enter. b to break\n",
      "'house'-'NOUN' press y or enter. b to break\n",
      "'asian'-'ADJ' press y or enter. b to break\n",
      "'black'-'VERB' press y or enter. b to breaky\n",
      "'mexicans'-'PROPN' press y or enter. b to break\n",
      "'feel'-'VERB' press y or enter. b to break\n",
      "'hate'-'NOUN' press y or enter. b to break\n",
      "'american'-'ADJ' press y or enter. b to break\n",
      "'got'-'VERB' press y or enter. b to break\n",
      "'correct'-'ADJ' press y or enter. b to break\n",
      "'everywhere'-'ADV' press y or enter. b to break\n",
      "'white'-'ADJ' press y or enter. b to break\n",
      "'split'-'ADJ' press y or enter. b to break\n",
      "'bias'-'NOUN' press y or enter. b to break\n",
      "'jews'-'PROPN' press y or enter. b to breakb\n",
      "\n",
      "______________\n",
      "jewish\n",
      "\n",
      "'jews'-'PROPN' press y or enter. b to breaky\n",
      "'jewish'-'ADJ' press y or enter. b to breaky\n",
      "'jew'-'NOUN' press y or enter. b to breaky\n",
      "'jews'-'NOUN' press y or enter. b to breaky\n",
      "'jew'-'PROPN' press y or enter. b to breaky\n",
      "'judaism'-'PROPN' press y or enter. b to breaky\n",
      "'jewish'-'PROPN' press y or enter. b to breaky\n",
      "'judeo'-'ADJ' press y or enter. b to breaky\n",
      "'anti-jewish'-'ADJ' press y or enter. b to breaky\n",
      "'israel'-'PROPN' press y or enter. b to breaky\n",
      "'christianity'-'NOUN' press y or enter. b to break\n",
      "'christian'-'ADJ' press y or enter. b to break\n",
      "'subscribe'-'VERB' press y or enter. b to break\n",
      "'crimes'-'NOUN' press y or enter. b to break\n",
      "'tolerant'-'ADJ' press y or enter. b to break\n",
      "'sikh'-'PROPN' press y or enter. b to break\n",
      "'christians'-'PROPN' press y or enter. b to break\n",
      "'anti-muslim'-'ADJ' press y or enter. b to break\n",
      "'christian'-'PROPN' press y or enter. b to break\n",
      "'buddhism'-'PROPN' press y or enter. b to break\n",
      "'vindictive'-'ADJ' press y or enter. b to break\n",
      "'inferior'-'ADJ' press y or enter. b to break\n",
      "'motion'-'NOUN' press y or enter. b to break\n",
      "'hitler'-'PROPN' press y or enter. b to break\n",
      "'6'-'NUM' press y or enter. b to break\n",
      "'non-authoritarian'-'ADJ' press y or enter. b to breakb\n",
      "\n",
      "______________\n",
      "white\n",
      "\n",
      "'white'-'ADJ' press y or enter. b to breaky\n",
      "'whites'-'NOUN' press y or enter. b to breaky\n",
      "'white'-'PROPN' press y or enter. b to breaky\n",
      "'non-white'-'ADJ' press y or enter. b to break\n",
      "'race'-'PROPN' press y or enter. b to break\n",
      "'racist'-'ADJ' press y or enter. b to break\n",
      "'faced'-'VERB' press y or enter. b to break\n",
      "'racism'-'NOUN' press y or enter. b to break\n",
      "'level'-'NOUN' press y or enter. b to break\n",
      "'country'-'NOUN' press y or enter. b to break\n",
      "'africa'-'PROPN' press y or enter. b to break\n",
      "'male'-'NOUN' press y or enter. b to break\n",
      "'whites'-'PROPN' press y or enter. b to breaky\n",
      "'pursued'-'VERB' press y or enter. b to break\n",
      "'except'-'ADP' press y or enter. b to break\n",
      "'play'-'VERB' press y or enter. b to break\n",
      "'billionaires'-'NOUN' press y or enter. b to break\n",
      "'blacks'-'NOUN' press y or enter. b to break\n",
      "'#'-'SYM' press y or enter. b to break\n",
      "'basis'-'NOUN' press y or enter. b to break\n",
      "'groups'-'NOUN' press y or enter. b to break\n",
      "'......'-'PUNCT' press y or enter. b to breakb\n"
     ]
    }
   ],
   "source": [
    "import sklearn.linear_model\n",
    "minority = set(['jewish','black','white','asian'])\n",
    "minority_columns = strat_sample_cols[5:]\n",
    "for col in minority_columns:\n",
    "  if col not in minority:\n",
    "    continue\n",
    "  print()\n",
    "  print('______________')\n",
    "  print(col)\n",
    "  #if len(min2set[col])>0:\n",
    "   # continue\n",
    "  y = (df[col]>0.5).values\n",
    "  model = sklearn.linear_model.LogisticRegression()\n",
    "  model.fit(X,y)\n",
    "  coefs = model.coef_\n",
    "  s = []\n",
    "  print()\n",
    "  for i in np.argsort(coefs)[0][::-1][:30]:\n",
    "    #print(,end='\\r')\n",
    "    inp = input('%r-%r press y or enter. b to break'%(idx[int(i)]))\n",
    "    print(end='\\r')\n",
    "    if inp=='y':\n",
    "      s.append([(i,idx[i])])\n",
    "    if inp=='b':\n",
    "      break\n",
    "  min2set[col] = s\n",
    "    \n"
   ]
  },
  {
   "cell_type": "code",
   "execution_count": null,
   "metadata": {
    "colab": {},
    "colab_type": "code",
    "id": "V8bxwwsttsFV"
   },
   "outputs": [],
   "source": [
    "import pickle\n",
    "pickle.dump(min2set,open('/content/drive/My Drive/lm/minority_keywords','wb'))"
   ]
  },
  {
   "cell_type": "code",
   "execution_count": null,
   "metadata": {
    "colab": {},
    "colab_type": "code",
    "id": "YEk6cQQpuGAy"
   },
   "outputs": [],
   "source": [
    "import pickle\n",
    "min2set = pickle.load(open('/content/drive/My Drive/lm/minority_keywords','rb'))"
   ]
  },
  {
   "cell_type": "markdown",
   "metadata": {
    "colab_type": "text",
    "id": "3DYhKVq8qrAt"
   },
   "source": [
    "9.4.2: Data augmentation to mitigate bias. Here you will create synthetic data to *mitigate* the minority biases by training the model on data where the different minority identifiers are used interchangebly.\n",
    "\n",
    "The strategy is to create new synthetic data by substituting an identifier from e.g. \"black\" identifiers with \"white\" identifiers, and we want to only substitute columns with the same Wordtyp. \n",
    "\n",
    "- Define a function that takes Two Sets of identifiers and substitutes identifiers from each set: \n",
    "  1. Makes a copy of the training BoWs (i.e. `.copy()` function). Runs through each identifer in set 1, locates the rows where it is active and makes a copy of these rows. \n",
    "  2. Sets identifer column to 0.\n",
    "  3. For each identifier in set 2 that match the same wordtype, make a copy of the rows. Set identifier column to 1 and append to list. \n",
    "  4. Concatenate these sparsematrices to one sparse matrix using the `scipy.sparse.vstack` function.\n",
    "\n",
    "- Apply the function to create extra synthethic data using all identifier sets.\n",
    "- Train a classifier using both the old and new synthetic data and investigate its differential bias.\n",
    "\n"
   ]
  },
  {
   "cell_type": "code",
   "execution_count": null,
   "metadata": {
    "colab": {},
    "colab_type": "code",
    "id": "WZJMuJZR43CR"
   },
   "outputs": [],
   "source": [
    "# Solution 9.2.2 Dataaugmentation\n",
    "## Build network to match words from the same class.\n",
    "import networkx as nx\n",
    "w2typ_g = nx.Graph()\n",
    "for l in min2set.values():\n",
    "  for i in l:\n",
    "    i = i[0]\n",
    "    wid = i[0]\n",
    "    wpair = i[1]\n",
    "    w,typ = wpair\n",
    "    w2typ_g.add_edge(wid,typ)\n",
    "# Substitution function\n",
    "def substitute(wid):\n",
    "  typ = idx[wid][1]\n",
    "  similar = w2typ_g[typ].copy()\n",
    "  new_rows = []\n",
    "  y = []\n",
    "  for i in similar:\n",
    "    \n",
    "    temp_idx = (X_train[:,i]>0).todense()\n",
    "\n",
    "    temp_idx = np.asarray(temp_idx).reshape(1,-1)[0,:]\n",
    "    \n",
    "    rows = X_train[temp_idx].copy()\n",
    "    rows[:,i] = 0\n",
    "    rows[:,wid] = 1\n",
    "    new_rows.append(rows)\n",
    "    y.append(y_train[temp_idx])\n",
    "  return new_rows,y\n",
    "# Create synthetic dataset\n",
    "augmented_data = []\n",
    "ys = []\n",
    "for minority,wpairs in min2set.items():\n",
    "  for i in wpairs:\n",
    "    wid,wpair = i[0]\n",
    "    rows,y = substitute(wid)\n",
    "    augmented_data+= rows\n",
    "    ys+=y"
   ]
  },
  {
   "cell_type": "code",
   "execution_count": null,
   "metadata": {
    "colab": {},
    "colab_type": "code",
    "id": "Rjb_vvUV3XcM"
   },
   "outputs": [],
   "source": [
    "augmented_mat = sp.vstack(augmented_data)\n",
    "y_aug = np.concatenate(ys)"
   ]
  },
  {
   "cell_type": "code",
   "execution_count": null,
   "metadata": {
    "colab": {},
    "colab_type": "code",
    "id": "dq2dkkBo3d6G"
   },
   "outputs": [],
   "source": [
    "# compile augmented training set\n",
    "X_train_aug = sp.vstack([X_train,augmented_mat])\n",
    "y_train_aug = np.concatenate([y_train,y_aug])\n"
   ]
  },
  {
   "cell_type": "code",
   "execution_count": null,
   "metadata": {
    "colab": {},
    "colab_type": "code",
    "id": "v6SGvCx1zydy"
   },
   "outputs": [],
   "source": [
    "# Train Classifier.\n",
    "model = sklearn.linear_model.LogisticRegression()\n",
    "model.fit(X_train,y_train)\n",
    "pred = model.predict(X_test)\n",
    "\n",
    "model_aug = sklearn.linear_model.LogisticRegression()\n",
    "model_aug.fit(X_train_aug,y_train_aug)\n",
    "aug_pred = model_aug.predict(X_test)\n"
   ]
  },
  {
   "cell_type": "code",
   "execution_count": null,
   "metadata": {
    "colab": {},
    "colab_type": "code",
    "id": "iQf1JbuI6m8I"
   },
   "outputs": [],
   "source": [
    "test_df['augmented_pred'] = aug_pred\n",
    "test_df['pred'] = pred"
   ]
  },
  {
   "cell_type": "code",
   "execution_count": 108,
   "metadata": {
    "colab": {
     "base_uri": "https://localhost:8080/",
     "height": 35
    },
    "colab_type": "code",
    "id": "FuahitNh6v00",
    "outputId": "181d517a-5bf1-4dad-b7e2-2dd0ddf91424"
   },
   "outputs": [
    {
     "data": {
      "text/plain": [
       "(0.8584797991326181, 0.8523168226432322)"
      ]
     },
     "execution_count": 108,
     "metadata": {
      "tags": []
     },
     "output_type": "execute_result"
    }
   ],
   "source": [
    "(test_df.pred==test_df.label).mean(),(test_df.augmented_pred==test_df.label).mean()\n",
    "# Performance has been reduced only slightly"
   ]
  },
  {
   "cell_type": "code",
   "execution_count": null,
   "metadata": {
    "colab": {},
    "colab_type": "code",
    "id": "3fxNKg6lz0vH"
   },
   "outputs": [],
   "source": [
    "dat = []\n",
    "for minority in minority_columns:\n",
    "  groupdf = test_df[test_df[minority]>0.5]\n",
    "  acc = (groupdf.label==groupdf.pred).mean()\n",
    "  acc_aug = (groupdf.label==groupdf.augmented_pred).mean()\n",
    "  d = {'minority':minority,'acc':acc,'aug_acc':acc_aug}\n",
    "  dat.append(d)"
   ]
  },
  {
   "cell_type": "code",
   "execution_count": 3,
   "metadata": {
    "colab": {
     "base_uri": "https://localhost:8080/",
     "height": 645
    },
    "colab_type": "code",
    "id": "tjPrqK9F7aKN",
    "outputId": "b712357c-247d-4bf8-c569-e9e40c7a13e8"
   },
   "outputs": [],
   "source": [
    "#pd.DataFrame(dat)"
   ]
  },
  {
   "cell_type": "markdown",
   "metadata": {
    "colab_type": "text",
    "id": "0sPSi1kl4xF0"
   },
   "source": [
    "## Extra\n",
    "- Implement a simple semi-supervised learning classifier. \n",
    "\n",
    "- Compute the lift curve. What does the graph tell you about the Saturation of your classifier?\n",
    "\n",
    "\n"
   ]
  }
 ],
 "metadata": {
  "accelerator": "GPU",
  "colab": {
   "collapsed_sections": [],
   "name": "Exercise9_bias_solutions.ipynb",
   "provenance": []
  },
  "kernelspec": {
   "display_name": "Python (full)",
   "language": "python",
   "name": "env_full"
  },
  "language_info": {
   "codemirror_mode": {
    "name": "ipython",
    "version": 3
   },
   "file_extension": ".py",
   "mimetype": "text/x-python",
   "name": "python",
   "nbconvert_exporter": "python",
   "pygments_lexer": "ipython3",
   "version": "3.6.8"
  }
 },
 "nbformat": 4,
 "nbformat_minor": 4
}
